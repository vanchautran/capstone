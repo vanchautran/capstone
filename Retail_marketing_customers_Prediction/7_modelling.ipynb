{
 "cells": [
  {
   "cell_type": "markdown",
   "metadata": {},
   "source": [
    "# **CAPSTONE PROJECT** - PART 7 - MODELING\n",
    "\n",
    "By Chau Tran"
   ]
  },
  {
   "cell_type": "markdown",
   "metadata": {},
   "source": [
    "## TABLE OF CONTENTS<a id=\"top7\"></a>\n",
    "\n",
    "* [Load libraries and data](#data7)\n",
    "* [Features encoding](#features)\n",
    "* [Modelling](#modelling)\n",
    "* [Cross validation and evaluation](#crossValidation)\n",
    "* [An attempt on Deel learning](#deepLearning)\n",
    "* [Hyperparameters tuning](#hypertuning)\n",
    "* [Feature importance](#featureImportance)"
   ]
  },
  {
   "cell_type": "markdown",
   "metadata": {},
   "source": [
    "### LOAD LIBRARIES AND DATA<a id=\"data7\"></a>\n",
    "[Back to top](#top7)"
   ]
  },
  {
   "cell_type": "code",
   "execution_count": 190,
   "metadata": {},
   "outputs": [],
   "source": [
    "import numpy as np\n",
    "import pandas as pd\n",
    "import matplotlib.pyplot as plt\n",
    "import matplotlib.pylab as pylab\n",
    "import seaborn as sns\n",
    "\n",
    "from sklearn.cluster import KMeans\n",
    "from sklearn.model_selection import train_test_split, cross_val_score, cross_validate, KFold, GridSearchCV\n",
    "from sklearn.preprocessing import StandardScaler\n",
    "from sklearn.inspection import permutation_importance\n",
    "\n",
    "import xgboost as xgb\n",
    "from sklearn.tree import DecisionTreeClassifier\n",
    "from sklearn.svm import SVC\n",
    "from sklearn.linear_model import LogisticRegression\n",
    "from sklearn.naive_bayes import GaussianNB\n",
    "from sklearn.neighbors import KNeighborsClassifier\n",
    "from sklearn.ensemble import RandomForestClassifier, GradientBoostingClassifier, AdaBoostClassifier\n",
    "\n",
    "from sklearn.metrics import roc_curve, auc, roc_auc_score, accuracy_score, recall_score, precision_score, f1_score, average_precision_score \n",
    "from sklearn.metrics import confusion_matrix, plot_confusion_matrix, classification_report\n",
    "from sklearn.metrics import plot_precision_recall_curve, precision_recall_curve\n",
    "\n",
    "from tensorflow.keras import Sequential, Input\n",
    "from tensorflow.keras.layers import Dense, Dropout\n",
    "from keras.utils import to_categorical\n",
    "\n",
    "# sns.set(color_codes = True)\n",
    "\n",
    "pd.set_option('display.max_rows', 50)\n",
    "pd.set_option('display.max_columns', 500)\n",
    "pd.set_option('display.width', 1000)\n",
    "\n",
    "%matplotlib inline"
   ]
  },
  {
   "cell_type": "code",
   "execution_count": 2,
   "metadata": {},
   "outputs": [],
   "source": [
    "# load dataset\n",
    "\n",
    "df_household_demo= pd.read_csv('DATA_CLEAN/households_withDemographic_beforeCamp18.csv')"
   ]
  },
  {
   "cell_type": "code",
   "execution_count": 3,
   "metadata": {},
   "outputs": [
    {
     "data": {
      "text/html": [
       "<div>\n",
       "<style scoped>\n",
       "    .dataframe tbody tr th:only-of-type {\n",
       "        vertical-align: middle;\n",
       "    }\n",
       "\n",
       "    .dataframe tbody tr th {\n",
       "        vertical-align: top;\n",
       "    }\n",
       "\n",
       "    .dataframe thead th {\n",
       "        text-align: right;\n",
       "    }\n",
       "</style>\n",
       "<table border=\"1\" class=\"dataframe\">\n",
       "  <thead>\n",
       "    <tr style=\"text-align: right;\">\n",
       "      <th></th>\n",
       "      <th>household_key</th>\n",
       "      <th>received_campaign</th>\n",
       "      <th>redeemed_coupons</th>\n",
       "      <th>TypeA</th>\n",
       "      <th>TypeB</th>\n",
       "      <th>TypeC</th>\n",
       "      <th>total_campaigns_received</th>\n",
       "      <th>total_campaigns_engaged</th>\n",
       "      <th>total_coupons_received</th>\n",
       "      <th>total_coupons_redeemed</th>\n",
       "      <th>camp_conversion_rate</th>\n",
       "      <th>coupon_conversion_rate</th>\n",
       "      <th>recency</th>\n",
       "      <th>frequency</th>\n",
       "      <th>monetary</th>\n",
       "      <th>rfm_group</th>\n",
       "      <th>rfm_score</th>\n",
       "      <th>segment</th>\n",
       "      <th>GROCERY_spend</th>\n",
       "      <th>DELI_spend</th>\n",
       "      <th>PRODUCE_spend</th>\n",
       "      <th>KIOSK-GAS_spend</th>\n",
       "      <th>DRUG GM_spend</th>\n",
       "      <th>NUTRITION_spend</th>\n",
       "      <th>SALAD BAR_spend</th>\n",
       "      <th>MEAT_spend</th>\n",
       "      <th>received_campA_18</th>\n",
       "      <th>redeemed_campA_18</th>\n",
       "      <th>zip_code</th>\n",
       "      <th>zipcode_segment</th>\n",
       "      <th>purchase_most_trans_time</th>\n",
       "      <th>age_desc</th>\n",
       "      <th>marital_status_code</th>\n",
       "      <th>income_desc</th>\n",
       "      <th>homeowner_desc</th>\n",
       "      <th>hh_comp_desc</th>\n",
       "      <th>household_size_desc</th>\n",
       "      <th>kid_category_desc</th>\n",
       "    </tr>\n",
       "  </thead>\n",
       "  <tbody>\n",
       "    <tr>\n",
       "      <th>0</th>\n",
       "      <td>7</td>\n",
       "      <td>1</td>\n",
       "      <td>0</td>\n",
       "      <td>0.0</td>\n",
       "      <td>3.0</td>\n",
       "      <td>0.0</td>\n",
       "      <td>3.0</td>\n",
       "      <td>0.0</td>\n",
       "      <td>45.0</td>\n",
       "      <td>0.0</td>\n",
       "      <td>0.00</td>\n",
       "      <td>0.00</td>\n",
       "      <td>10</td>\n",
       "      <td>38</td>\n",
       "      <td>2320.50</td>\n",
       "      <td>223</td>\n",
       "      <td>7</td>\n",
       "      <td>Need attention</td>\n",
       "      <td>1184.37</td>\n",
       "      <td>116.15</td>\n",
       "      <td>168.34</td>\n",
       "      <td>0.00</td>\n",
       "      <td>497.99</td>\n",
       "      <td>4.98</td>\n",
       "      <td>0.00</td>\n",
       "      <td>175.52</td>\n",
       "      <td>1</td>\n",
       "      <td>0</td>\n",
       "      <td>40243</td>\n",
       "      <td>TopIncome</td>\n",
       "      <td>1804</td>\n",
       "      <td>45-54</td>\n",
       "      <td>A</td>\n",
       "      <td>50-74K</td>\n",
       "      <td>Homeowner</td>\n",
       "      <td>2 Adults No Kids</td>\n",
       "      <td>2</td>\n",
       "      <td>None/Unknown</td>\n",
       "    </tr>\n",
       "    <tr>\n",
       "      <th>1</th>\n",
       "      <td>8</td>\n",
       "      <td>1</td>\n",
       "      <td>1</td>\n",
       "      <td>2.0</td>\n",
       "      <td>6.0</td>\n",
       "      <td>0.0</td>\n",
       "      <td>8.0</td>\n",
       "      <td>1.0</td>\n",
       "      <td>136.0</td>\n",
       "      <td>1.0</td>\n",
       "      <td>0.12</td>\n",
       "      <td>0.01</td>\n",
       "      <td>0</td>\n",
       "      <td>90</td>\n",
       "      <td>4113.90</td>\n",
       "      <td>434</td>\n",
       "      <td>11</td>\n",
       "      <td>Champions</td>\n",
       "      <td>2208.33</td>\n",
       "      <td>45.47</td>\n",
       "      <td>183.04</td>\n",
       "      <td>188.94</td>\n",
       "      <td>688.08</td>\n",
       "      <td>11.98</td>\n",
       "      <td>50.55</td>\n",
       "      <td>261.88</td>\n",
       "      <td>1</td>\n",
       "      <td>0</td>\n",
       "      <td>37211</td>\n",
       "      <td>HighIncome</td>\n",
       "      <td>2149</td>\n",
       "      <td>25-34</td>\n",
       "      <td>U</td>\n",
       "      <td>25-34K</td>\n",
       "      <td>Unknown</td>\n",
       "      <td>2 Adults Kids</td>\n",
       "      <td>3</td>\n",
       "      <td>1</td>\n",
       "    </tr>\n",
       "    <tr>\n",
       "      <th>2</th>\n",
       "      <td>13</td>\n",
       "      <td>1</td>\n",
       "      <td>1</td>\n",
       "      <td>2.0</td>\n",
       "      <td>4.0</td>\n",
       "      <td>0.0</td>\n",
       "      <td>6.0</td>\n",
       "      <td>11.0</td>\n",
       "      <td>82.0</td>\n",
       "      <td>11.0</td>\n",
       "      <td>1.83</td>\n",
       "      <td>0.13</td>\n",
       "      <td>0</td>\n",
       "      <td>207</td>\n",
       "      <td>10138.40</td>\n",
       "      <td>444</td>\n",
       "      <td>12</td>\n",
       "      <td>Champions</td>\n",
       "      <td>3692.39</td>\n",
       "      <td>47.65</td>\n",
       "      <td>232.49</td>\n",
       "      <td>2472.86</td>\n",
       "      <td>2187.85</td>\n",
       "      <td>3.31</td>\n",
       "      <td>10.09</td>\n",
       "      <td>19.13</td>\n",
       "      <td>1</td>\n",
       "      <td>1</td>\n",
       "      <td>62946</td>\n",
       "      <td>MediumIncome</td>\n",
       "      <td>823</td>\n",
       "      <td>25-34</td>\n",
       "      <td>U</td>\n",
       "      <td>75-99K</td>\n",
       "      <td>Homeowner</td>\n",
       "      <td>2 Adults Kids</td>\n",
       "      <td>4</td>\n",
       "      <td>2</td>\n",
       "    </tr>\n",
       "    <tr>\n",
       "      <th>3</th>\n",
       "      <td>16</td>\n",
       "      <td>1</td>\n",
       "      <td>0</td>\n",
       "      <td>1.0</td>\n",
       "      <td>1.0</td>\n",
       "      <td>0.0</td>\n",
       "      <td>2.0</td>\n",
       "      <td>0.0</td>\n",
       "      <td>32.0</td>\n",
       "      <td>0.0</td>\n",
       "      <td>0.00</td>\n",
       "      <td>0.00</td>\n",
       "      <td>4</td>\n",
       "      <td>92</td>\n",
       "      <td>1471.45</td>\n",
       "      <td>332</td>\n",
       "      <td>8</td>\n",
       "      <td>Need attention</td>\n",
       "      <td>785.67</td>\n",
       "      <td>97.87</td>\n",
       "      <td>86.97</td>\n",
       "      <td>192.30</td>\n",
       "      <td>68.29</td>\n",
       "      <td>8.86</td>\n",
       "      <td>6.43</td>\n",
       "      <td>95.79</td>\n",
       "      <td>0</td>\n",
       "      <td>0</td>\n",
       "      <td>40241</td>\n",
       "      <td>TopIncome</td>\n",
       "      <td>659</td>\n",
       "      <td>45-54</td>\n",
       "      <td>B</td>\n",
       "      <td>50-74K</td>\n",
       "      <td>Homeowner</td>\n",
       "      <td>Single Female</td>\n",
       "      <td>1</td>\n",
       "      <td>None/Unknown</td>\n",
       "    </tr>\n",
       "    <tr>\n",
       "      <th>4</th>\n",
       "      <td>17</td>\n",
       "      <td>1</td>\n",
       "      <td>0</td>\n",
       "      <td>4.0</td>\n",
       "      <td>0.0</td>\n",
       "      <td>0.0</td>\n",
       "      <td>4.0</td>\n",
       "      <td>0.0</td>\n",
       "      <td>64.0</td>\n",
       "      <td>0.0</td>\n",
       "      <td>0.00</td>\n",
       "      <td>0.00</td>\n",
       "      <td>1</td>\n",
       "      <td>114</td>\n",
       "      <td>4582.07</td>\n",
       "      <td>434</td>\n",
       "      <td>11</td>\n",
       "      <td>Champions</td>\n",
       "      <td>1682.07</td>\n",
       "      <td>37.36</td>\n",
       "      <td>208.75</td>\n",
       "      <td>683.13</td>\n",
       "      <td>820.86</td>\n",
       "      <td>10.97</td>\n",
       "      <td>0.00</td>\n",
       "      <td>909.34</td>\n",
       "      <td>1</td>\n",
       "      <td>0</td>\n",
       "      <td>40503</td>\n",
       "      <td>HighIncome</td>\n",
       "      <td>1718</td>\n",
       "      <td>65+</td>\n",
       "      <td>B</td>\n",
       "      <td>Under 15K</td>\n",
       "      <td>Homeowner</td>\n",
       "      <td>2 Adults No Kids</td>\n",
       "      <td>2</td>\n",
       "      <td>None/Unknown</td>\n",
       "    </tr>\n",
       "  </tbody>\n",
       "</table>\n",
       "</div>"
      ],
      "text/plain": [
       "   household_key  received_campaign  redeemed_coupons  TypeA  TypeB  TypeC  total_campaigns_received  total_campaigns_engaged  total_coupons_received  total_coupons_redeemed  camp_conversion_rate  coupon_conversion_rate  recency  frequency  monetary  rfm_group  rfm_score         segment  GROCERY_spend  DELI_spend  PRODUCE_spend  KIOSK-GAS_spend  DRUG GM_spend  NUTRITION_spend  SALAD BAR_spend  MEAT_spend  received_campA_18  redeemed_campA_18  zip_code zipcode_segment  purchase_most_trans_time age_desc marital_status_code income_desc homeowner_desc      hh_comp_desc household_size_desc kid_category_desc\n",
       "0              7                  1                 0    0.0    3.0    0.0                       3.0                      0.0                    45.0                     0.0                  0.00                    0.00       10         38   2320.50        223          7  Need attention        1184.37      116.15         168.34             0.00         497.99             4.98             0.00      175.52                  1                  0     40243       TopIncome                      1804    45-54                   A      50-74K      Homeowner  2 Adults No Kids                   2      None/Unknown\n",
       "1              8                  1                 1    2.0    6.0    0.0                       8.0                      1.0                   136.0                     1.0                  0.12                    0.01        0         90   4113.90        434         11       Champions        2208.33       45.47         183.04           188.94         688.08            11.98            50.55      261.88                  1                  0     37211      HighIncome                      2149    25-34                   U      25-34K        Unknown     2 Adults Kids                   3                 1\n",
       "2             13                  1                 1    2.0    4.0    0.0                       6.0                     11.0                    82.0                    11.0                  1.83                    0.13        0        207  10138.40        444         12       Champions        3692.39       47.65         232.49          2472.86        2187.85             3.31            10.09       19.13                  1                  1     62946    MediumIncome                       823    25-34                   U      75-99K      Homeowner     2 Adults Kids                   4                 2\n",
       "3             16                  1                 0    1.0    1.0    0.0                       2.0                      0.0                    32.0                     0.0                  0.00                    0.00        4         92   1471.45        332          8  Need attention         785.67       97.87          86.97           192.30          68.29             8.86             6.43       95.79                  0                  0     40241       TopIncome                       659    45-54                   B      50-74K      Homeowner     Single Female                   1      None/Unknown\n",
       "4             17                  1                 0    4.0    0.0    0.0                       4.0                      0.0                    64.0                     0.0                  0.00                    0.00        1        114   4582.07        434         11       Champions        1682.07       37.36         208.75           683.13         820.86            10.97             0.00      909.34                  1                  0     40503      HighIncome                      1718      65+                   B   Under 15K      Homeowner  2 Adults No Kids                   2      None/Unknown"
      ]
     },
     "execution_count": 3,
     "metadata": {},
     "output_type": "execute_result"
    }
   ],
   "source": [
    "df_household_demo.head()"
   ]
  },
  {
   "cell_type": "markdown",
   "metadata": {},
   "source": [
    "### FEATURES ENCODING AND CORRELATION CHECKING<a id=\"features\"></a>\n",
    "[Back to top](#top7)"
   ]
  },
  {
   "cell_type": "code",
   "execution_count": 6,
   "metadata": {},
   "outputs": [
    {
     "name": "stdout",
     "output_type": "stream",
     "text": [
      "29\n",
      "['household_key', 'received_campaign', 'redeemed_coupons', 'TypeA', 'TypeB', 'TypeC', 'total_campaigns_received', 'total_campaigns_engaged', 'total_coupons_received', 'total_coupons_redeemed', 'camp_conversion_rate', 'coupon_conversion_rate', 'recency', 'frequency', 'monetary', 'rfm_group', 'rfm_score', 'GROCERY_spend', 'DELI_spend', 'PRODUCE_spend', 'KIOSK-GAS_spend', 'DRUG GM_spend', 'NUTRITION_spend', 'SALAD BAR_spend', 'MEAT_spend', 'received_campA_18', 'redeemed_campA_18', 'zip_code', 'purchase_most_trans_time']\n",
      "9\n",
      "Index(['age_desc', 'hh_comp_desc', 'homeowner_desc', 'household_size_desc', 'income_desc', 'kid_category_desc', 'marital_status_code', 'segment', 'zipcode_segment'], dtype='object')\n"
     ]
    }
   ],
   "source": [
    "# get all numerical columns\n",
    "numerical_dtypes = ['int16','int32', 'int64','float16','float32','float64']\n",
    "num_cols = []\n",
    "for i in df_household_demo.columns:\n",
    "    if df_household_demo[i].dtype in numerical_dtypes:\n",
    "        num_cols.append(i)\n",
    "        \n",
    "print(len(num_cols))\n",
    "print(num_cols)\n",
    "\n",
    "cat_cols = df_household_demo.columns.difference(num_cols)\n",
    "print(len(cat_cols))\n",
    "print(cat_cols)\n"
   ]
  },
  {
   "cell_type": "code",
   "execution_count": 7,
   "metadata": {},
   "outputs": [
    {
     "data": {
      "text/plain": [
       "array(['Need attention', 'Champions', 'Loyal', 'Required activation'],\n",
       "      dtype=object)"
      ]
     },
     "execution_count": 7,
     "metadata": {},
     "output_type": "execute_result"
    }
   ],
   "source": [
    "df_household_demo.segment.unique()"
   ]
  },
  {
   "cell_type": "code",
   "execution_count": 8,
   "metadata": {},
   "outputs": [
    {
     "data": {
      "text/html": [
       "<div>\n",
       "<style scoped>\n",
       "    .dataframe tbody tr th:only-of-type {\n",
       "        vertical-align: middle;\n",
       "    }\n",
       "\n",
       "    .dataframe tbody tr th {\n",
       "        vertical-align: top;\n",
       "    }\n",
       "\n",
       "    .dataframe thead th {\n",
       "        text-align: right;\n",
       "    }\n",
       "</style>\n",
       "<table border=\"1\" class=\"dataframe\">\n",
       "  <thead>\n",
       "    <tr style=\"text-align: right;\">\n",
       "      <th></th>\n",
       "      <th>household_key</th>\n",
       "      <th>received_campaign</th>\n",
       "      <th>redeemed_coupons</th>\n",
       "      <th>TypeA</th>\n",
       "      <th>TypeB</th>\n",
       "      <th>TypeC</th>\n",
       "      <th>total_campaigns_received</th>\n",
       "      <th>total_campaigns_engaged</th>\n",
       "      <th>total_coupons_received</th>\n",
       "      <th>total_coupons_redeemed</th>\n",
       "      <th>camp_conversion_rate</th>\n",
       "      <th>coupon_conversion_rate</th>\n",
       "      <th>recency</th>\n",
       "      <th>frequency</th>\n",
       "      <th>monetary</th>\n",
       "      <th>rfm_group</th>\n",
       "      <th>rfm_score</th>\n",
       "      <th>segment</th>\n",
       "      <th>GROCERY_spend</th>\n",
       "      <th>DELI_spend</th>\n",
       "      <th>PRODUCE_spend</th>\n",
       "      <th>KIOSK-GAS_spend</th>\n",
       "      <th>DRUG GM_spend</th>\n",
       "      <th>NUTRITION_spend</th>\n",
       "      <th>SALAD BAR_spend</th>\n",
       "      <th>MEAT_spend</th>\n",
       "      <th>received_campA_18</th>\n",
       "      <th>redeemed_campA_18</th>\n",
       "      <th>zip_code</th>\n",
       "      <th>zipcode_segment</th>\n",
       "      <th>purchase_most_trans_time</th>\n",
       "      <th>age_desc</th>\n",
       "      <th>marital_status_code</th>\n",
       "      <th>income_desc</th>\n",
       "      <th>homeowner_desc</th>\n",
       "      <th>hh_comp_desc</th>\n",
       "      <th>household_size_desc</th>\n",
       "      <th>kid_category_desc</th>\n",
       "      <th>homeowner_desc_rating</th>\n",
       "      <th>income_desc_rating</th>\n",
       "      <th>age_desc_rating</th>\n",
       "      <th>marital_status_code_rating</th>\n",
       "      <th>segment_rating</th>\n",
       "    </tr>\n",
       "  </thead>\n",
       "  <tbody>\n",
       "    <tr>\n",
       "      <th>0</th>\n",
       "      <td>7</td>\n",
       "      <td>1</td>\n",
       "      <td>0</td>\n",
       "      <td>0.0</td>\n",
       "      <td>3.0</td>\n",
       "      <td>0.0</td>\n",
       "      <td>3.0</td>\n",
       "      <td>0.0</td>\n",
       "      <td>45.0</td>\n",
       "      <td>0.0</td>\n",
       "      <td>0.00</td>\n",
       "      <td>0.00</td>\n",
       "      <td>10</td>\n",
       "      <td>38</td>\n",
       "      <td>2320.50</td>\n",
       "      <td>223</td>\n",
       "      <td>7</td>\n",
       "      <td>Need attention</td>\n",
       "      <td>1184.37</td>\n",
       "      <td>116.15</td>\n",
       "      <td>168.34</td>\n",
       "      <td>0.00</td>\n",
       "      <td>497.99</td>\n",
       "      <td>4.98</td>\n",
       "      <td>0.00</td>\n",
       "      <td>175.52</td>\n",
       "      <td>1</td>\n",
       "      <td>0</td>\n",
       "      <td>40243</td>\n",
       "      <td>TopIncome</td>\n",
       "      <td>1804</td>\n",
       "      <td>45-54</td>\n",
       "      <td>A</td>\n",
       "      <td>50-74K</td>\n",
       "      <td>Homeowner</td>\n",
       "      <td>2 Adults No Kids</td>\n",
       "      <td>2</td>\n",
       "      <td>None/Unknown</td>\n",
       "      <td>4</td>\n",
       "      <td>4</td>\n",
       "      <td>3</td>\n",
       "      <td>2</td>\n",
       "      <td>1</td>\n",
       "    </tr>\n",
       "    <tr>\n",
       "      <th>1</th>\n",
       "      <td>8</td>\n",
       "      <td>1</td>\n",
       "      <td>1</td>\n",
       "      <td>2.0</td>\n",
       "      <td>6.0</td>\n",
       "      <td>0.0</td>\n",
       "      <td>8.0</td>\n",
       "      <td>1.0</td>\n",
       "      <td>136.0</td>\n",
       "      <td>1.0</td>\n",
       "      <td>0.12</td>\n",
       "      <td>0.01</td>\n",
       "      <td>0</td>\n",
       "      <td>90</td>\n",
       "      <td>4113.90</td>\n",
       "      <td>434</td>\n",
       "      <td>11</td>\n",
       "      <td>Champions</td>\n",
       "      <td>2208.33</td>\n",
       "      <td>45.47</td>\n",
       "      <td>183.04</td>\n",
       "      <td>188.94</td>\n",
       "      <td>688.08</td>\n",
       "      <td>11.98</td>\n",
       "      <td>50.55</td>\n",
       "      <td>261.88</td>\n",
       "      <td>1</td>\n",
       "      <td>0</td>\n",
       "      <td>37211</td>\n",
       "      <td>HighIncome</td>\n",
       "      <td>2149</td>\n",
       "      <td>25-34</td>\n",
       "      <td>U</td>\n",
       "      <td>25-34K</td>\n",
       "      <td>Unknown</td>\n",
       "      <td>2 Adults Kids</td>\n",
       "      <td>3</td>\n",
       "      <td>1</td>\n",
       "      <td>0</td>\n",
       "      <td>2</td>\n",
       "      <td>1</td>\n",
       "      <td>0</td>\n",
       "      <td>3</td>\n",
       "    </tr>\n",
       "    <tr>\n",
       "      <th>2</th>\n",
       "      <td>13</td>\n",
       "      <td>1</td>\n",
       "      <td>1</td>\n",
       "      <td>2.0</td>\n",
       "      <td>4.0</td>\n",
       "      <td>0.0</td>\n",
       "      <td>6.0</td>\n",
       "      <td>11.0</td>\n",
       "      <td>82.0</td>\n",
       "      <td>11.0</td>\n",
       "      <td>1.83</td>\n",
       "      <td>0.13</td>\n",
       "      <td>0</td>\n",
       "      <td>207</td>\n",
       "      <td>10138.40</td>\n",
       "      <td>444</td>\n",
       "      <td>12</td>\n",
       "      <td>Champions</td>\n",
       "      <td>3692.39</td>\n",
       "      <td>47.65</td>\n",
       "      <td>232.49</td>\n",
       "      <td>2472.86</td>\n",
       "      <td>2187.85</td>\n",
       "      <td>3.31</td>\n",
       "      <td>10.09</td>\n",
       "      <td>19.13</td>\n",
       "      <td>1</td>\n",
       "      <td>1</td>\n",
       "      <td>62946</td>\n",
       "      <td>MediumIncome</td>\n",
       "      <td>823</td>\n",
       "      <td>25-34</td>\n",
       "      <td>U</td>\n",
       "      <td>75-99K</td>\n",
       "      <td>Homeowner</td>\n",
       "      <td>2 Adults Kids</td>\n",
       "      <td>4</td>\n",
       "      <td>2</td>\n",
       "      <td>4</td>\n",
       "      <td>5</td>\n",
       "      <td>1</td>\n",
       "      <td>0</td>\n",
       "      <td>3</td>\n",
       "    </tr>\n",
       "    <tr>\n",
       "      <th>3</th>\n",
       "      <td>16</td>\n",
       "      <td>1</td>\n",
       "      <td>0</td>\n",
       "      <td>1.0</td>\n",
       "      <td>1.0</td>\n",
       "      <td>0.0</td>\n",
       "      <td>2.0</td>\n",
       "      <td>0.0</td>\n",
       "      <td>32.0</td>\n",
       "      <td>0.0</td>\n",
       "      <td>0.00</td>\n",
       "      <td>0.00</td>\n",
       "      <td>4</td>\n",
       "      <td>92</td>\n",
       "      <td>1471.45</td>\n",
       "      <td>332</td>\n",
       "      <td>8</td>\n",
       "      <td>Need attention</td>\n",
       "      <td>785.67</td>\n",
       "      <td>97.87</td>\n",
       "      <td>86.97</td>\n",
       "      <td>192.30</td>\n",
       "      <td>68.29</td>\n",
       "      <td>8.86</td>\n",
       "      <td>6.43</td>\n",
       "      <td>95.79</td>\n",
       "      <td>0</td>\n",
       "      <td>0</td>\n",
       "      <td>40241</td>\n",
       "      <td>TopIncome</td>\n",
       "      <td>659</td>\n",
       "      <td>45-54</td>\n",
       "      <td>B</td>\n",
       "      <td>50-74K</td>\n",
       "      <td>Homeowner</td>\n",
       "      <td>Single Female</td>\n",
       "      <td>1</td>\n",
       "      <td>None/Unknown</td>\n",
       "      <td>4</td>\n",
       "      <td>4</td>\n",
       "      <td>3</td>\n",
       "      <td>1</td>\n",
       "      <td>1</td>\n",
       "    </tr>\n",
       "    <tr>\n",
       "      <th>4</th>\n",
       "      <td>17</td>\n",
       "      <td>1</td>\n",
       "      <td>0</td>\n",
       "      <td>4.0</td>\n",
       "      <td>0.0</td>\n",
       "      <td>0.0</td>\n",
       "      <td>4.0</td>\n",
       "      <td>0.0</td>\n",
       "      <td>64.0</td>\n",
       "      <td>0.0</td>\n",
       "      <td>0.00</td>\n",
       "      <td>0.00</td>\n",
       "      <td>1</td>\n",
       "      <td>114</td>\n",
       "      <td>4582.07</td>\n",
       "      <td>434</td>\n",
       "      <td>11</td>\n",
       "      <td>Champions</td>\n",
       "      <td>1682.07</td>\n",
       "      <td>37.36</td>\n",
       "      <td>208.75</td>\n",
       "      <td>683.13</td>\n",
       "      <td>820.86</td>\n",
       "      <td>10.97</td>\n",
       "      <td>0.00</td>\n",
       "      <td>909.34</td>\n",
       "      <td>1</td>\n",
       "      <td>0</td>\n",
       "      <td>40503</td>\n",
       "      <td>HighIncome</td>\n",
       "      <td>1718</td>\n",
       "      <td>65+</td>\n",
       "      <td>B</td>\n",
       "      <td>Under 15K</td>\n",
       "      <td>Homeowner</td>\n",
       "      <td>2 Adults No Kids</td>\n",
       "      <td>2</td>\n",
       "      <td>None/Unknown</td>\n",
       "      <td>4</td>\n",
       "      <td>0</td>\n",
       "      <td>5</td>\n",
       "      <td>1</td>\n",
       "      <td>3</td>\n",
       "    </tr>\n",
       "  </tbody>\n",
       "</table>\n",
       "</div>"
      ],
      "text/plain": [
       "   household_key  received_campaign  redeemed_coupons  TypeA  TypeB  TypeC  total_campaigns_received  total_campaigns_engaged  total_coupons_received  total_coupons_redeemed  camp_conversion_rate  coupon_conversion_rate  recency  frequency  monetary  rfm_group  rfm_score         segment  GROCERY_spend  DELI_spend  PRODUCE_spend  KIOSK-GAS_spend  DRUG GM_spend  NUTRITION_spend  SALAD BAR_spend  MEAT_spend  received_campA_18  redeemed_campA_18  zip_code zipcode_segment  purchase_most_trans_time age_desc marital_status_code income_desc homeowner_desc      hh_comp_desc household_size_desc kid_category_desc  homeowner_desc_rating  income_desc_rating  age_desc_rating  marital_status_code_rating  segment_rating\n",
       "0              7                  1                 0    0.0    3.0    0.0                       3.0                      0.0                    45.0                     0.0                  0.00                    0.00       10         38   2320.50        223          7  Need attention        1184.37      116.15         168.34             0.00         497.99             4.98             0.00      175.52                  1                  0     40243       TopIncome                      1804    45-54                   A      50-74K      Homeowner  2 Adults No Kids                   2      None/Unknown                      4                   4                3                           2               1\n",
       "1              8                  1                 1    2.0    6.0    0.0                       8.0                      1.0                   136.0                     1.0                  0.12                    0.01        0         90   4113.90        434         11       Champions        2208.33       45.47         183.04           188.94         688.08            11.98            50.55      261.88                  1                  0     37211      HighIncome                      2149    25-34                   U      25-34K        Unknown     2 Adults Kids                   3                 1                      0                   2                1                           0               3\n",
       "2             13                  1                 1    2.0    4.0    0.0                       6.0                     11.0                    82.0                    11.0                  1.83                    0.13        0        207  10138.40        444         12       Champions        3692.39       47.65         232.49          2472.86        2187.85             3.31            10.09       19.13                  1                  1     62946    MediumIncome                       823    25-34                   U      75-99K      Homeowner     2 Adults Kids                   4                 2                      4                   5                1                           0               3\n",
       "3             16                  1                 0    1.0    1.0    0.0                       2.0                      0.0                    32.0                     0.0                  0.00                    0.00        4         92   1471.45        332          8  Need attention         785.67       97.87          86.97           192.30          68.29             8.86             6.43       95.79                  0                  0     40241       TopIncome                       659    45-54                   B      50-74K      Homeowner     Single Female                   1      None/Unknown                      4                   4                3                           1               1\n",
       "4             17                  1                 0    4.0    0.0    0.0                       4.0                      0.0                    64.0                     0.0                  0.00                    0.00        1        114   4582.07        434         11       Champions        1682.07       37.36         208.75           683.13         820.86            10.97             0.00      909.34                  1                  0     40503      HighIncome                      1718      65+                   B   Under 15K      Homeowner  2 Adults No Kids                   2      None/Unknown                      4                   0                5                           1               3"
      ]
     },
     "execution_count": 8,
     "metadata": {},
     "output_type": "execute_result"
    }
   ],
   "source": [
    "# ENCODE CATEGORICAL ORDINAL COLS\n",
    "\n",
    "def factorize_ordinal_cols(data,cols,cat_list):\n",
    "    for i in cols: \n",
    "        new_col = i + '_rating'\n",
    "        cat = pd.Categorical(data[i], \n",
    "                         categories=cat_list, \n",
    "                         ordered=True)\n",
    "        labels, unique = pd.factorize(cat, sort=True)\n",
    "        data[new_col] = labels\n",
    "        \n",
    "\n",
    "cat1_cols = ['homeowner_desc']\n",
    "cat2_cols = ['income_desc']\n",
    "cat3_cols = ['age_desc']\n",
    "cat4_cols = ['marital_status_code']\n",
    "cat5_cols = ['segment']\n",
    "\n",
    "cat1_list = ['Unknown','Probable Renter','Probable Owner','Renter','Homeowner']       \n",
    "cat2_list = ['Under 15K','15-24K','25-34K','35-49K','50-74K','75-99K','100-124K','125-149K','150-174K','175-199K','200-249K','250K+']       \n",
    "cat3_list = ['19-24','25-34','35-44', '45-54','55-64','65+']\n",
    "cat4_list = ['U','B','A']\n",
    "cat5_list = ['Required activation','Need attention','Loyal','Champions']\n",
    "    \n",
    "factorize_ordinal_cols(df_household_demo,cat1_cols,cat1_list)\n",
    "factorize_ordinal_cols(df_household_demo,cat2_cols,cat2_list)\n",
    "factorize_ordinal_cols(df_household_demo,cat3_cols,cat3_list)\n",
    "factorize_ordinal_cols(df_household_demo,cat4_cols,cat4_list)\n",
    "factorize_ordinal_cols(df_household_demo,cat5_cols,cat5_list)\n",
    "\n",
    "# print(labels, unique)\n",
    "df_household_demo.head()"
   ]
  },
  {
   "cell_type": "code",
   "execution_count": 10,
   "metadata": {},
   "outputs": [
    {
     "data": {
      "text/html": [
       "<div>\n",
       "<style scoped>\n",
       "    .dataframe tbody tr th:only-of-type {\n",
       "        vertical-align: middle;\n",
       "    }\n",
       "\n",
       "    .dataframe tbody tr th {\n",
       "        vertical-align: top;\n",
       "    }\n",
       "\n",
       "    .dataframe thead th {\n",
       "        text-align: right;\n",
       "    }\n",
       "</style>\n",
       "<table border=\"1\" class=\"dataframe\">\n",
       "  <thead>\n",
       "    <tr style=\"text-align: right;\">\n",
       "      <th></th>\n",
       "      <th>household_key</th>\n",
       "      <th>received_campaign</th>\n",
       "      <th>redeemed_coupons</th>\n",
       "      <th>TypeA</th>\n",
       "      <th>TypeB</th>\n",
       "      <th>TypeC</th>\n",
       "      <th>total_campaigns_received</th>\n",
       "      <th>total_campaigns_engaged</th>\n",
       "      <th>total_coupons_received</th>\n",
       "      <th>total_coupons_redeemed</th>\n",
       "      <th>camp_conversion_rate</th>\n",
       "      <th>coupon_conversion_rate</th>\n",
       "      <th>recency</th>\n",
       "      <th>frequency</th>\n",
       "      <th>monetary</th>\n",
       "      <th>rfm_group</th>\n",
       "      <th>rfm_score</th>\n",
       "      <th>GROCERY_spend</th>\n",
       "      <th>DELI_spend</th>\n",
       "      <th>PRODUCE_spend</th>\n",
       "      <th>KIOSK-GAS_spend</th>\n",
       "      <th>DRUG GM_spend</th>\n",
       "      <th>NUTRITION_spend</th>\n",
       "      <th>SALAD BAR_spend</th>\n",
       "      <th>MEAT_spend</th>\n",
       "      <th>received_campA_18</th>\n",
       "      <th>redeemed_campA_18</th>\n",
       "      <th>zip_code</th>\n",
       "      <th>purchase_most_trans_time</th>\n",
       "      <th>homeowner_desc_rating</th>\n",
       "      <th>income_desc_rating</th>\n",
       "      <th>age_desc_rating</th>\n",
       "      <th>marital_status_code_rating</th>\n",
       "      <th>segment_rating</th>\n",
       "      <th>age_desc_19-24</th>\n",
       "      <th>age_desc_25-34</th>\n",
       "      <th>age_desc_35-44</th>\n",
       "      <th>age_desc_45-54</th>\n",
       "      <th>age_desc_55-64</th>\n",
       "      <th>age_desc_65+</th>\n",
       "      <th>hh_comp_desc_1 Adult Kids</th>\n",
       "      <th>hh_comp_desc_2 Adults Kids</th>\n",
       "      <th>hh_comp_desc_2 Adults No Kids</th>\n",
       "      <th>hh_comp_desc_Single Female</th>\n",
       "      <th>hh_comp_desc_Single Male</th>\n",
       "      <th>hh_comp_desc_Unknown</th>\n",
       "      <th>homeowner_desc_Homeowner</th>\n",
       "      <th>homeowner_desc_Probable Owner</th>\n",
       "      <th>homeowner_desc_Probable Renter</th>\n",
       "      <th>homeowner_desc_Renter</th>\n",
       "      <th>homeowner_desc_Unknown</th>\n",
       "      <th>household_size_desc_1</th>\n",
       "      <th>household_size_desc_2</th>\n",
       "      <th>household_size_desc_3</th>\n",
       "      <th>household_size_desc_4</th>\n",
       "      <th>household_size_desc_5+</th>\n",
       "      <th>income_desc_100-124K</th>\n",
       "      <th>income_desc_125-149K</th>\n",
       "      <th>income_desc_15-24K</th>\n",
       "      <th>income_desc_150-174K</th>\n",
       "      <th>income_desc_175-199K</th>\n",
       "      <th>income_desc_200-249K</th>\n",
       "      <th>income_desc_25-34K</th>\n",
       "      <th>income_desc_250K+</th>\n",
       "      <th>income_desc_35-49K</th>\n",
       "      <th>income_desc_50-74K</th>\n",
       "      <th>income_desc_75-99K</th>\n",
       "      <th>income_desc_Under 15K</th>\n",
       "      <th>kid_category_desc_1</th>\n",
       "      <th>kid_category_desc_2</th>\n",
       "      <th>kid_category_desc_3+</th>\n",
       "      <th>kid_category_desc_None/Unknown</th>\n",
       "      <th>marital_status_code_A</th>\n",
       "      <th>marital_status_code_B</th>\n",
       "      <th>marital_status_code_U</th>\n",
       "      <th>segment_Champions</th>\n",
       "      <th>segment_Loyal</th>\n",
       "      <th>segment_Need attention</th>\n",
       "      <th>segment_Required activation</th>\n",
       "      <th>zipcode_segment_HighIncome</th>\n",
       "      <th>zipcode_segment_LowIncome</th>\n",
       "      <th>zipcode_segment_MediumIncome</th>\n",
       "      <th>zipcode_segment_TopIncome</th>\n",
       "    </tr>\n",
       "  </thead>\n",
       "  <tbody>\n",
       "    <tr>\n",
       "      <th>0</th>\n",
       "      <td>7</td>\n",
       "      <td>1</td>\n",
       "      <td>0</td>\n",
       "      <td>0.0</td>\n",
       "      <td>3.0</td>\n",
       "      <td>0.0</td>\n",
       "      <td>3.0</td>\n",
       "      <td>0.0</td>\n",
       "      <td>45.0</td>\n",
       "      <td>0.0</td>\n",
       "      <td>0.00</td>\n",
       "      <td>0.00</td>\n",
       "      <td>10</td>\n",
       "      <td>38</td>\n",
       "      <td>2320.50</td>\n",
       "      <td>223</td>\n",
       "      <td>7</td>\n",
       "      <td>1184.37</td>\n",
       "      <td>116.15</td>\n",
       "      <td>168.34</td>\n",
       "      <td>0.00</td>\n",
       "      <td>497.99</td>\n",
       "      <td>4.98</td>\n",
       "      <td>0.00</td>\n",
       "      <td>175.52</td>\n",
       "      <td>1</td>\n",
       "      <td>0</td>\n",
       "      <td>40243</td>\n",
       "      <td>1804</td>\n",
       "      <td>4</td>\n",
       "      <td>4</td>\n",
       "      <td>3</td>\n",
       "      <td>2</td>\n",
       "      <td>1</td>\n",
       "      <td>0</td>\n",
       "      <td>0</td>\n",
       "      <td>0</td>\n",
       "      <td>1</td>\n",
       "      <td>0</td>\n",
       "      <td>0</td>\n",
       "      <td>0</td>\n",
       "      <td>0</td>\n",
       "      <td>1</td>\n",
       "      <td>0</td>\n",
       "      <td>0</td>\n",
       "      <td>0</td>\n",
       "      <td>1</td>\n",
       "      <td>0</td>\n",
       "      <td>0</td>\n",
       "      <td>0</td>\n",
       "      <td>0</td>\n",
       "      <td>0</td>\n",
       "      <td>1</td>\n",
       "      <td>0</td>\n",
       "      <td>0</td>\n",
       "      <td>0</td>\n",
       "      <td>0</td>\n",
       "      <td>0</td>\n",
       "      <td>0</td>\n",
       "      <td>0</td>\n",
       "      <td>0</td>\n",
       "      <td>0</td>\n",
       "      <td>0</td>\n",
       "      <td>0</td>\n",
       "      <td>0</td>\n",
       "      <td>1</td>\n",
       "      <td>0</td>\n",
       "      <td>0</td>\n",
       "      <td>0</td>\n",
       "      <td>0</td>\n",
       "      <td>0</td>\n",
       "      <td>1</td>\n",
       "      <td>1</td>\n",
       "      <td>0</td>\n",
       "      <td>0</td>\n",
       "      <td>0</td>\n",
       "      <td>0</td>\n",
       "      <td>1</td>\n",
       "      <td>0</td>\n",
       "      <td>0</td>\n",
       "      <td>0</td>\n",
       "      <td>0</td>\n",
       "      <td>1</td>\n",
       "    </tr>\n",
       "    <tr>\n",
       "      <th>1</th>\n",
       "      <td>8</td>\n",
       "      <td>1</td>\n",
       "      <td>1</td>\n",
       "      <td>2.0</td>\n",
       "      <td>6.0</td>\n",
       "      <td>0.0</td>\n",
       "      <td>8.0</td>\n",
       "      <td>1.0</td>\n",
       "      <td>136.0</td>\n",
       "      <td>1.0</td>\n",
       "      <td>0.12</td>\n",
       "      <td>0.01</td>\n",
       "      <td>0</td>\n",
       "      <td>90</td>\n",
       "      <td>4113.90</td>\n",
       "      <td>434</td>\n",
       "      <td>11</td>\n",
       "      <td>2208.33</td>\n",
       "      <td>45.47</td>\n",
       "      <td>183.04</td>\n",
       "      <td>188.94</td>\n",
       "      <td>688.08</td>\n",
       "      <td>11.98</td>\n",
       "      <td>50.55</td>\n",
       "      <td>261.88</td>\n",
       "      <td>1</td>\n",
       "      <td>0</td>\n",
       "      <td>37211</td>\n",
       "      <td>2149</td>\n",
       "      <td>0</td>\n",
       "      <td>2</td>\n",
       "      <td>1</td>\n",
       "      <td>0</td>\n",
       "      <td>3</td>\n",
       "      <td>0</td>\n",
       "      <td>1</td>\n",
       "      <td>0</td>\n",
       "      <td>0</td>\n",
       "      <td>0</td>\n",
       "      <td>0</td>\n",
       "      <td>0</td>\n",
       "      <td>1</td>\n",
       "      <td>0</td>\n",
       "      <td>0</td>\n",
       "      <td>0</td>\n",
       "      <td>0</td>\n",
       "      <td>0</td>\n",
       "      <td>0</td>\n",
       "      <td>0</td>\n",
       "      <td>0</td>\n",
       "      <td>1</td>\n",
       "      <td>0</td>\n",
       "      <td>0</td>\n",
       "      <td>1</td>\n",
       "      <td>0</td>\n",
       "      <td>0</td>\n",
       "      <td>0</td>\n",
       "      <td>0</td>\n",
       "      <td>0</td>\n",
       "      <td>0</td>\n",
       "      <td>0</td>\n",
       "      <td>0</td>\n",
       "      <td>1</td>\n",
       "      <td>0</td>\n",
       "      <td>0</td>\n",
       "      <td>0</td>\n",
       "      <td>0</td>\n",
       "      <td>0</td>\n",
       "      <td>1</td>\n",
       "      <td>0</td>\n",
       "      <td>0</td>\n",
       "      <td>0</td>\n",
       "      <td>0</td>\n",
       "      <td>0</td>\n",
       "      <td>1</td>\n",
       "      <td>1</td>\n",
       "      <td>0</td>\n",
       "      <td>0</td>\n",
       "      <td>0</td>\n",
       "      <td>1</td>\n",
       "      <td>0</td>\n",
       "      <td>0</td>\n",
       "      <td>0</td>\n",
       "    </tr>\n",
       "    <tr>\n",
       "      <th>2</th>\n",
       "      <td>13</td>\n",
       "      <td>1</td>\n",
       "      <td>1</td>\n",
       "      <td>2.0</td>\n",
       "      <td>4.0</td>\n",
       "      <td>0.0</td>\n",
       "      <td>6.0</td>\n",
       "      <td>11.0</td>\n",
       "      <td>82.0</td>\n",
       "      <td>11.0</td>\n",
       "      <td>1.83</td>\n",
       "      <td>0.13</td>\n",
       "      <td>0</td>\n",
       "      <td>207</td>\n",
       "      <td>10138.40</td>\n",
       "      <td>444</td>\n",
       "      <td>12</td>\n",
       "      <td>3692.39</td>\n",
       "      <td>47.65</td>\n",
       "      <td>232.49</td>\n",
       "      <td>2472.86</td>\n",
       "      <td>2187.85</td>\n",
       "      <td>3.31</td>\n",
       "      <td>10.09</td>\n",
       "      <td>19.13</td>\n",
       "      <td>1</td>\n",
       "      <td>1</td>\n",
       "      <td>62946</td>\n",
       "      <td>823</td>\n",
       "      <td>4</td>\n",
       "      <td>5</td>\n",
       "      <td>1</td>\n",
       "      <td>0</td>\n",
       "      <td>3</td>\n",
       "      <td>0</td>\n",
       "      <td>1</td>\n",
       "      <td>0</td>\n",
       "      <td>0</td>\n",
       "      <td>0</td>\n",
       "      <td>0</td>\n",
       "      <td>0</td>\n",
       "      <td>1</td>\n",
       "      <td>0</td>\n",
       "      <td>0</td>\n",
       "      <td>0</td>\n",
       "      <td>0</td>\n",
       "      <td>1</td>\n",
       "      <td>0</td>\n",
       "      <td>0</td>\n",
       "      <td>0</td>\n",
       "      <td>0</td>\n",
       "      <td>0</td>\n",
       "      <td>0</td>\n",
       "      <td>0</td>\n",
       "      <td>1</td>\n",
       "      <td>0</td>\n",
       "      <td>0</td>\n",
       "      <td>0</td>\n",
       "      <td>0</td>\n",
       "      <td>0</td>\n",
       "      <td>0</td>\n",
       "      <td>0</td>\n",
       "      <td>0</td>\n",
       "      <td>0</td>\n",
       "      <td>0</td>\n",
       "      <td>0</td>\n",
       "      <td>1</td>\n",
       "      <td>0</td>\n",
       "      <td>0</td>\n",
       "      <td>1</td>\n",
       "      <td>0</td>\n",
       "      <td>0</td>\n",
       "      <td>0</td>\n",
       "      <td>0</td>\n",
       "      <td>1</td>\n",
       "      <td>1</td>\n",
       "      <td>0</td>\n",
       "      <td>0</td>\n",
       "      <td>0</td>\n",
       "      <td>0</td>\n",
       "      <td>0</td>\n",
       "      <td>1</td>\n",
       "      <td>0</td>\n",
       "    </tr>\n",
       "    <tr>\n",
       "      <th>3</th>\n",
       "      <td>16</td>\n",
       "      <td>1</td>\n",
       "      <td>0</td>\n",
       "      <td>1.0</td>\n",
       "      <td>1.0</td>\n",
       "      <td>0.0</td>\n",
       "      <td>2.0</td>\n",
       "      <td>0.0</td>\n",
       "      <td>32.0</td>\n",
       "      <td>0.0</td>\n",
       "      <td>0.00</td>\n",
       "      <td>0.00</td>\n",
       "      <td>4</td>\n",
       "      <td>92</td>\n",
       "      <td>1471.45</td>\n",
       "      <td>332</td>\n",
       "      <td>8</td>\n",
       "      <td>785.67</td>\n",
       "      <td>97.87</td>\n",
       "      <td>86.97</td>\n",
       "      <td>192.30</td>\n",
       "      <td>68.29</td>\n",
       "      <td>8.86</td>\n",
       "      <td>6.43</td>\n",
       "      <td>95.79</td>\n",
       "      <td>0</td>\n",
       "      <td>0</td>\n",
       "      <td>40241</td>\n",
       "      <td>659</td>\n",
       "      <td>4</td>\n",
       "      <td>4</td>\n",
       "      <td>3</td>\n",
       "      <td>1</td>\n",
       "      <td>1</td>\n",
       "      <td>0</td>\n",
       "      <td>0</td>\n",
       "      <td>0</td>\n",
       "      <td>1</td>\n",
       "      <td>0</td>\n",
       "      <td>0</td>\n",
       "      <td>0</td>\n",
       "      <td>0</td>\n",
       "      <td>0</td>\n",
       "      <td>1</td>\n",
       "      <td>0</td>\n",
       "      <td>0</td>\n",
       "      <td>1</td>\n",
       "      <td>0</td>\n",
       "      <td>0</td>\n",
       "      <td>0</td>\n",
       "      <td>0</td>\n",
       "      <td>1</td>\n",
       "      <td>0</td>\n",
       "      <td>0</td>\n",
       "      <td>0</td>\n",
       "      <td>0</td>\n",
       "      <td>0</td>\n",
       "      <td>0</td>\n",
       "      <td>0</td>\n",
       "      <td>0</td>\n",
       "      <td>0</td>\n",
       "      <td>0</td>\n",
       "      <td>0</td>\n",
       "      <td>0</td>\n",
       "      <td>0</td>\n",
       "      <td>1</td>\n",
       "      <td>0</td>\n",
       "      <td>0</td>\n",
       "      <td>0</td>\n",
       "      <td>0</td>\n",
       "      <td>0</td>\n",
       "      <td>1</td>\n",
       "      <td>0</td>\n",
       "      <td>1</td>\n",
       "      <td>0</td>\n",
       "      <td>0</td>\n",
       "      <td>0</td>\n",
       "      <td>1</td>\n",
       "      <td>0</td>\n",
       "      <td>0</td>\n",
       "      <td>0</td>\n",
       "      <td>0</td>\n",
       "      <td>1</td>\n",
       "    </tr>\n",
       "    <tr>\n",
       "      <th>4</th>\n",
       "      <td>17</td>\n",
       "      <td>1</td>\n",
       "      <td>0</td>\n",
       "      <td>4.0</td>\n",
       "      <td>0.0</td>\n",
       "      <td>0.0</td>\n",
       "      <td>4.0</td>\n",
       "      <td>0.0</td>\n",
       "      <td>64.0</td>\n",
       "      <td>0.0</td>\n",
       "      <td>0.00</td>\n",
       "      <td>0.00</td>\n",
       "      <td>1</td>\n",
       "      <td>114</td>\n",
       "      <td>4582.07</td>\n",
       "      <td>434</td>\n",
       "      <td>11</td>\n",
       "      <td>1682.07</td>\n",
       "      <td>37.36</td>\n",
       "      <td>208.75</td>\n",
       "      <td>683.13</td>\n",
       "      <td>820.86</td>\n",
       "      <td>10.97</td>\n",
       "      <td>0.00</td>\n",
       "      <td>909.34</td>\n",
       "      <td>1</td>\n",
       "      <td>0</td>\n",
       "      <td>40503</td>\n",
       "      <td>1718</td>\n",
       "      <td>4</td>\n",
       "      <td>0</td>\n",
       "      <td>5</td>\n",
       "      <td>1</td>\n",
       "      <td>3</td>\n",
       "      <td>0</td>\n",
       "      <td>0</td>\n",
       "      <td>0</td>\n",
       "      <td>0</td>\n",
       "      <td>0</td>\n",
       "      <td>1</td>\n",
       "      <td>0</td>\n",
       "      <td>0</td>\n",
       "      <td>1</td>\n",
       "      <td>0</td>\n",
       "      <td>0</td>\n",
       "      <td>0</td>\n",
       "      <td>1</td>\n",
       "      <td>0</td>\n",
       "      <td>0</td>\n",
       "      <td>0</td>\n",
       "      <td>0</td>\n",
       "      <td>0</td>\n",
       "      <td>1</td>\n",
       "      <td>0</td>\n",
       "      <td>0</td>\n",
       "      <td>0</td>\n",
       "      <td>0</td>\n",
       "      <td>0</td>\n",
       "      <td>0</td>\n",
       "      <td>0</td>\n",
       "      <td>0</td>\n",
       "      <td>0</td>\n",
       "      <td>0</td>\n",
       "      <td>0</td>\n",
       "      <td>0</td>\n",
       "      <td>0</td>\n",
       "      <td>0</td>\n",
       "      <td>1</td>\n",
       "      <td>0</td>\n",
       "      <td>0</td>\n",
       "      <td>0</td>\n",
       "      <td>1</td>\n",
       "      <td>0</td>\n",
       "      <td>1</td>\n",
       "      <td>0</td>\n",
       "      <td>1</td>\n",
       "      <td>0</td>\n",
       "      <td>0</td>\n",
       "      <td>0</td>\n",
       "      <td>1</td>\n",
       "      <td>0</td>\n",
       "      <td>0</td>\n",
       "      <td>0</td>\n",
       "    </tr>\n",
       "  </tbody>\n",
       "</table>\n",
       "</div>"
      ],
      "text/plain": [
       "   household_key  received_campaign  redeemed_coupons  TypeA  TypeB  TypeC  total_campaigns_received  total_campaigns_engaged  total_coupons_received  total_coupons_redeemed  camp_conversion_rate  coupon_conversion_rate  recency  frequency  monetary  rfm_group  rfm_score  GROCERY_spend  DELI_spend  PRODUCE_spend  KIOSK-GAS_spend  DRUG GM_spend  NUTRITION_spend  SALAD BAR_spend  MEAT_spend  received_campA_18  redeemed_campA_18  zip_code  purchase_most_trans_time  homeowner_desc_rating  income_desc_rating  age_desc_rating  marital_status_code_rating  segment_rating  age_desc_19-24  age_desc_25-34  age_desc_35-44  age_desc_45-54  age_desc_55-64  age_desc_65+  hh_comp_desc_1 Adult Kids  hh_comp_desc_2 Adults Kids  hh_comp_desc_2 Adults No Kids  hh_comp_desc_Single Female  hh_comp_desc_Single Male  hh_comp_desc_Unknown  homeowner_desc_Homeowner  homeowner_desc_Probable Owner  homeowner_desc_Probable Renter  homeowner_desc_Renter  homeowner_desc_Unknown  household_size_desc_1  \\\n",
       "0              7                  1                 0    0.0    3.0    0.0                       3.0                      0.0                    45.0                     0.0                  0.00                    0.00       10         38   2320.50        223          7        1184.37      116.15         168.34             0.00         497.99             4.98             0.00      175.52                  1                  0     40243                      1804                      4                   4                3                           2               1               0               0               0               1               0             0                          0                           0                              1                           0                         0                     0                         1                              0                               0                      0                       0                      0   \n",
       "1              8                  1                 1    2.0    6.0    0.0                       8.0                      1.0                   136.0                     1.0                  0.12                    0.01        0         90   4113.90        434         11        2208.33       45.47         183.04           188.94         688.08            11.98            50.55      261.88                  1                  0     37211                      2149                      0                   2                1                           0               3               0               1               0               0               0             0                          0                           1                              0                           0                         0                     0                         0                              0                               0                      0                       1                      0   \n",
       "2             13                  1                 1    2.0    4.0    0.0                       6.0                     11.0                    82.0                    11.0                  1.83                    0.13        0        207  10138.40        444         12        3692.39       47.65         232.49          2472.86        2187.85             3.31            10.09       19.13                  1                  1     62946                       823                      4                   5                1                           0               3               0               1               0               0               0             0                          0                           1                              0                           0                         0                     0                         1                              0                               0                      0                       0                      0   \n",
       "3             16                  1                 0    1.0    1.0    0.0                       2.0                      0.0                    32.0                     0.0                  0.00                    0.00        4         92   1471.45        332          8         785.67       97.87          86.97           192.30          68.29             8.86             6.43       95.79                  0                  0     40241                       659                      4                   4                3                           1               1               0               0               0               1               0             0                          0                           0                              0                           1                         0                     0                         1                              0                               0                      0                       0                      1   \n",
       "4             17                  1                 0    4.0    0.0    0.0                       4.0                      0.0                    64.0                     0.0                  0.00                    0.00        1        114   4582.07        434         11        1682.07       37.36         208.75           683.13         820.86            10.97             0.00      909.34                  1                  0     40503                      1718                      4                   0                5                           1               3               0               0               0               0               0             1                          0                           0                              1                           0                         0                     0                         1                              0                               0                      0                       0                      0   \n",
       "\n",
       "   household_size_desc_2  household_size_desc_3  household_size_desc_4  household_size_desc_5+  income_desc_100-124K  income_desc_125-149K  income_desc_15-24K  income_desc_150-174K  income_desc_175-199K  income_desc_200-249K  income_desc_25-34K  income_desc_250K+  income_desc_35-49K  income_desc_50-74K  income_desc_75-99K  income_desc_Under 15K  kid_category_desc_1  kid_category_desc_2  kid_category_desc_3+  kid_category_desc_None/Unknown  marital_status_code_A  marital_status_code_B  marital_status_code_U  segment_Champions  segment_Loyal  segment_Need attention  segment_Required activation  zipcode_segment_HighIncome  zipcode_segment_LowIncome  zipcode_segment_MediumIncome  zipcode_segment_TopIncome  \n",
       "0                      1                      0                      0                       0                     0                     0                   0                     0                     0                     0                   0                  0                   0                   1                   0                      0                    0                    0                     0                               1                      1                      0                      0                  0              0                       1                            0                           0                          0                             0                          1  \n",
       "1                      0                      1                      0                       0                     0                     0                   0                     0                     0                     0                   1                  0                   0                   0                   0                      0                    1                    0                     0                               0                      0                      0                      1                  1              0                       0                            0                           1                          0                             0                          0  \n",
       "2                      0                      0                      1                       0                     0                     0                   0                     0                     0                     0                   0                  0                   0                   0                   1                      0                    0                    1                     0                               0                      0                      0                      1                  1              0                       0                            0                           0                          0                             1                          0  \n",
       "3                      0                      0                      0                       0                     0                     0                   0                     0                     0                     0                   0                  0                   0                   1                   0                      0                    0                    0                     0                               1                      0                      1                      0                  0              0                       1                            0                           0                          0                             0                          1  \n",
       "4                      1                      0                      0                       0                     0                     0                   0                     0                     0                     0                   0                  0                   0                   0                   0                      1                    0                    0                     0                               1                      0                      1                      0                  1              0                       0                            0                           1                          0                             0                          0  "
      ]
     },
     "execution_count": 10,
     "metadata": {},
     "output_type": "execute_result"
    }
   ],
   "source": [
    "df_household_demo_encoded = pd.get_dummies(data = df_household_demo, columns = cat_cols)\n",
    "df_household_demo_encoded.head()"
   ]
  },
  {
   "cell_type": "code",
   "execution_count": 104,
   "metadata": {},
   "outputs": [
    {
     "data": {
      "image/png": "[encoded data removed]",
      "text/plain": [
       "<Figure size 504x792 with 2 Axes>"
      ]
     },
     "metadata": {
      "needs_background": "light"
     },
     "output_type": "display_data"
    }
   ],
   "source": [
    "figure = plt.figure(figsize=(7,11))\n",
    "sns.heatmap(df_household_demo.corr()[['redeemed_campA_18']].sort_values('redeemed_campA_18',ascending=False),annot=True, cmap='coolwarm', center=0);\n"
   ]
  },
  {
   "cell_type": "code",
   "execution_count": 109,
   "metadata": {},
   "outputs": [],
   "source": [
    "demographic_cols = [\n",
    " 'redeemed_campA_18',\n",
    " 'segment_Champions',\n",
    " 'segment_Loyal',\n",
    " 'segment_Need attention',\n",
    " 'segment_Required activation',\n",
    " 'age_desc_19-24',\n",
    " 'age_desc_25-34',\n",
    " 'age_desc_35-44',\n",
    " 'age_desc_45-54',\n",
    " 'age_desc_55-64',\n",
    " 'age_desc_65+',\n",
    " 'hh_comp_desc_1 Adult Kids',\n",
    " 'hh_comp_desc_2 Adults Kids',\n",
    " 'hh_comp_desc_2 Adults No Kids',\n",
    " 'hh_comp_desc_Single Female',\n",
    " 'hh_comp_desc_Single Male',\n",
    " 'homeowner_desc_Homeowner',\n",
    " 'homeowner_desc_Renter',\n",
    " 'household_size_desc_1',\n",
    " 'household_size_desc_2',\n",
    " 'household_size_desc_3',\n",
    " 'household_size_desc_4',\n",
    " 'household_size_desc_5+',\n",
    " 'income_desc_100-124K',\n",
    " 'income_desc_125-149K',\n",
    " 'income_desc_15-24K',\n",
    " 'income_desc_150-174K',\n",
    " 'income_desc_175-199K',\n",
    " 'income_desc_200-249K',\n",
    " 'income_desc_25-34K',\n",
    " 'income_desc_250K+',\n",
    " 'income_desc_35-49K',\n",
    " 'income_desc_50-74K',\n",
    " 'income_desc_75-99K',\n",
    " 'income_desc_Under 15K',\n",
    " 'marital_status_code_A'\n",
    "]\n",
    "\n",
    "demographic_df = pd.DataFrame(df_household_demo_encoded, columns = test_cols)"
   ]
  },
  {
   "cell_type": "code",
   "execution_count": 103,
   "metadata": {},
   "outputs": [
    {
     "data": {
      "image/png": "[encoded data removed]",
      "text/plain": [
       "<Figure size 360x720 with 2 Axes>"
      ]
     },
     "metadata": {
      "needs_background": "light"
     },
     "output_type": "display_data"
    }
   ],
   "source": [
    "\n",
    "figure = plt.figure(figsize=(5,10))\n",
    "sns.heatmap(demographic_df.corr()[['redeemed_campA_18']].sort_values('redeemed_campA_18',ascending=False),annot=True, cmap='coolwarm', center=0);\n"
   ]
  },
  {
   "cell_type": "markdown",
   "metadata": {},
   "source": [
    "### MODELLING<a id=\"modelling\"></a>\n",
    "[Back to top](#top7)"
   ]
  },
  {
   "cell_type": "code",
   "execution_count": 11,
   "metadata": {},
   "outputs": [],
   "source": [
    "# FUNCTION TO PLOT ROC CURVE AND DISPLAY SCORE\n",
    "\n",
    "def plot_ROC_curve(model,X_test,y_test):\n",
    "\n",
    "    # Generate the prediction values for each of the test observations using predict_proba() function rather than just predict\n",
    "    preds = model.predict_proba(X_test)[:,1]\n",
    "\n",
    "    # Store the false positive rate(fpr), true positive rate (tpr) in vectors for use in the graph\n",
    "    fpr, tpr, _ = roc_curve(y_test, preds)\n",
    "\n",
    "    # Store the Area Under the Curve (AUC) so we can annotate our graph with theis metric\n",
    "    roc_auc = auc(fpr, tpr)\n",
    "\n",
    "    # Plot the ROC Curve\n",
    "    plt.figure()\n",
    "    lw = 2\n",
    "    plt.plot(fpr, tpr, color='darkorange', lw = lw, label = 'ROC curve (area = %0.2f)' % roc_auc)\n",
    "    plt.plot([0, 1], [0, 1], color = 'navy', lw = lw, linestyle = '--')\n",
    "    plt.xlim([0.0, 1.0])\n",
    "    plt.ylim([0.0, 1.0])\n",
    "    plt.xlabel('False Positive Rate')\n",
    "    plt.ylabel('True Positive Rate')\n",
    "    plt.title('Receiver operating characteristic example')\n",
    "    plt.legend(loc = \"lower right\")\n",
    "    plt.show()\n",
    "\n",
    "def display_scores(model, X_test, y_test, y_pred):\n",
    "    \n",
    "    # predict probabilities\n",
    "    pred_probs = model.predict_proba(X_test)\n",
    "    # keep probabilities for the positive outcome only\n",
    "    pred_probs = pred_probs[:, 1]\n",
    "    \n",
    "    print('Accuracy is: ',round(accuracy_score(y_test, y_pred),2))\n",
    "    print('F1 score is: ',round(f1_score(y_test, y_pred),2))\n",
    "    print('Ave PR score: ',round(average_precision_score(y_test, pred_probs),2))\n",
    "\n",
    "    cm = confusion_matrix(y_test,y_pred)\n",
    "    \n",
    "    sns.heatmap(cm/np.sum(cm),annot=True,fmt='.2%', cmap='Blues')\n",
    "    plt.xlabel('Predicted')\n",
    "    plt.ylabel('Actual')\n",
    "    \n",
    "    print(classification_report(y_test,y_pred))\n",
    "    \n",
    "    plot_precision_recall_curve(model, X_test, y_test)\n",
    "    \n",
    "    plot_ROC_curve(model,X_test,y_test)"
   ]
  },
  {
   "cell_type": "code",
   "execution_count": 12,
   "metadata": {},
   "outputs": [
    {
     "data": {
      "text/plain": [
       "0.265139116202946"
      ]
     },
     "execution_count": 12,
     "metadata": {},
     "output_type": "execute_result"
    }
   ],
   "source": [
    "df_household_demo_encoded[df_household_demo_encoded.redeemed_campA_18==1].shape[0]/df_household_demo_encoded[df_household_demo_encoded.redeemed_campA_18==0].shape[0]"
   ]
  },
  {
   "cell_type": "code",
   "execution_count": 113,
   "metadata": {},
   "outputs": [
    {
     "data": {
      "text/plain": [
       "['segment_Champions',\n",
       " 'segment_Loyal',\n",
       " 'segment_Need attention',\n",
       " 'segment_Required activation',\n",
       " 'age_desc_19-24',\n",
       " 'age_desc_25-34',\n",
       " 'age_desc_35-44',\n",
       " 'age_desc_45-54',\n",
       " 'age_desc_55-64',\n",
       " 'age_desc_65+',\n",
       " 'hh_comp_desc_1 Adult Kids',\n",
       " 'hh_comp_desc_2 Adults Kids',\n",
       " 'hh_comp_desc_2 Adults No Kids',\n",
       " 'hh_comp_desc_Single Female',\n",
       " 'hh_comp_desc_Single Male',\n",
       " 'homeowner_desc_Homeowner',\n",
       " 'homeowner_desc_Renter',\n",
       " 'household_size_desc_1',\n",
       " 'household_size_desc_2',\n",
       " 'household_size_desc_3',\n",
       " 'household_size_desc_4',\n",
       " 'household_size_desc_5+',\n",
       " 'income_desc_100-124K',\n",
       " 'income_desc_125-149K',\n",
       " 'income_desc_15-24K',\n",
       " 'income_desc_150-174K',\n",
       " 'income_desc_175-199K',\n",
       " 'income_desc_200-249K',\n",
       " 'income_desc_25-34K',\n",
       " 'income_desc_250K+',\n",
       " 'income_desc_35-49K',\n",
       " 'income_desc_50-74K',\n",
       " 'income_desc_75-99K',\n",
       " 'income_desc_Under 15K',\n",
       " 'marital_status_code_A']"
      ]
     },
     "execution_count": 113,
     "metadata": {},
     "output_type": "execute_result"
    }
   ],
   "source": [
    "# demographic_cols.remove('redeemed_campA_18')\n",
    "\n",
    "X = pd.DataFrame(df_household_demo_encoded, columns = demographic_cols)\n",
    "\n",
    "y = df_household_demo_encoded['redeemed_campA_18']\n",
    "\n",
    "X_train, X_test, y_train, y_test = train_test_split(X, y, test_size = 0.4, random_state=1, stratify=y, shuffle=True)\n",
    "demographic_cols\n"
   ]
  },
  {
   "cell_type": "code",
   "execution_count": 114,
   "metadata": {},
   "outputs": [
    {
     "name": "stdout",
     "output_type": "stream",
     "text": [
      "Counter({0: 611, 1: 611}) Counter({0: 245, 1: 65})\n"
     ]
    }
   ],
   "source": [
    "# OVERSAMPLING DATA\n",
    "\n",
    "from imblearn.over_sampling import SMOTE\n",
    "from collections import Counter\n",
    "\n",
    "smote = SMOTE(random_state = 42)\n",
    "X_sm, y_sm = smote.fit_resample(X, y)\n",
    "\n",
    "print(Counter(y_sm),Counter(y_test))"
   ]
  },
  {
   "cell_type": "code",
   "execution_count": 115,
   "metadata": {},
   "outputs": [
    {
     "name": "stdout",
     "output_type": "stream",
     "text": [
      "(977, 35) (977,) (245, 35) (245,)\n"
     ]
    }
   ],
   "source": [
    "print(Xs_train.shape, ys_train.shape, Xs_test.shape, ys_test.shape)"
   ]
  },
  {
   "cell_type": "code",
   "execution_count": 116,
   "metadata": {},
   "outputs": [],
   "source": [
    "# STANDARDISE DATA\n",
    "\n",
    "ss = StandardScaler()\n",
    "\n",
    "Xs = ss.fit_transform(X_sm)\n",
    "\n",
    "Xs_train, Xs_test, ys_train, ys_test = train_test_split(Xs,y_sm,test_size=0.2,random_state=42)\n"
   ]
  },
  {
   "cell_type": "code",
   "execution_count": 136,
   "metadata": {},
   "outputs": [
    {
     "name": "stdout",
     "output_type": "stream",
     "text": [
      "Accuracy is:  0.81\n",
      "F1 score is:  0.79\n",
      "Ave PR score:  0.88\n",
      "              precision    recall  f1-score   support\n",
      "\n",
      "           0       0.81      0.84      0.83       131\n",
      "           1       0.81      0.78      0.79       114\n",
      "\n",
      "    accuracy                           0.81       245\n",
      "   macro avg       0.81      0.81      0.81       245\n",
      "weighted avg       0.81      0.81      0.81       245\n",
      "\n"
     ]
    },
    {
     "data": {
      "image/png": "[encoded data removed]",
      "text/plain": [
       "<Figure size 432x288 with 2 Axes>"
      ]
     },
     "metadata": {
      "needs_background": "light"
     },
     "output_type": "display_data"
    },
    {
     "data": {
      "image/png": "[encoded data removed]",
      "text/plain": [
       "<Figure size 432x288 with 1 Axes>"
      ]
     },
     "metadata": {
      "needs_background": "light"
     },
     "output_type": "display_data"
    },
    {
     "data": {
      "image/png": "[encoded data removed]",
      "text/plain": [
       "<Figure size 432x288 with 1 Axes>"
      ]
     },
     "metadata": {
      "needs_background": "light"
     },
     "output_type": "display_data"
    }
   ],
   "source": [
    "# CHECK WITH BASED SIMPLE MODEL\n",
    "RF_clf = RandomForestClassifier()\n",
    "    \n",
    "RF_clf.fit(Xs_train,ys_train)\n",
    "\n",
    "y_pred = RF_clf.predict(Xs_test)\n",
    "display_scores(RF_clf, Xs_test, ys_test, y_pred)"
   ]
  },
  {
   "cell_type": "markdown",
   "metadata": {},
   "source": [
    "### EVALUATE MODELS BY CROSS VALIDATION<a id=\"crossValidation\"></a>\n",
    "[Back to top](#top7)"
   ]
  },
  {
   "cell_type": "code",
   "execution_count": 207,
   "metadata": {},
   "outputs": [],
   "source": [
    "def cross_val_models(X_train, X_test, y_train, y_test,imbalancedData=False,hyperTune=False):\n",
    "    \n",
    "    if not hyperTune:\n",
    "        if imbalancedData:\n",
    "            # models with hyperparams for imbalanced dataset\n",
    "            models = [\n",
    "                      ('LogReg', LogisticRegression(solver='liblinear')), \n",
    "                      ('RF', RandomForestClassifier(class_weight='balanced')),\n",
    "                      ('GB', GradientBoostingClassifier()),\n",
    "                      ('XGB', xgb.XGBClassifier(scale_pos_weight=5.2)),\n",
    "                      ('KNN', KNeighborsClassifier()),\n",
    "                      ('NB', GaussianNB())\n",
    "                     ] \n",
    "        else:\n",
    "             models = [\n",
    "                      ('LogReg', LogisticRegression()), \n",
    "                      ('RF', RandomForestClassifier()),\n",
    "                      ('GB', GradientBoostingClassifier()),\n",
    "                      ('XGB', xgb.XGBClassifier()),\n",
    "                      ('KNN', KNeighborsClassifier()),\n",
    "                      ('NB', GaussianNB()),\n",
    "                      ('Ada',AdaBoostClassifier())\n",
    "                     ] \n",
    "            \n",
    "    else: \n",
    "        XGB_clf = xgb.XGBClassifier(colsample_bytree=0.6,\n",
    "                                     gamma=0.1,\n",
    "                                     learning_rate= 0.1,\n",
    "                                     max_depth=5,\n",
    "                                     min_child_weight=1,\n",
    "                                     n_estimators=100,\n",
    "                                     subsample=0.8)\n",
    "    \n",
    "        \n",
    "        RF_clf = RandomForestClassifier(max_depth=30,\n",
    "                                         min_samples_leaf=1,\n",
    "                                         min_samples_split=2,\n",
    "                                         n_estimators=1200)\n",
    "            \n",
    "        GB_clf = GradientBoostingClassifier(random_state=42, \n",
    "                                            learning_rate=0.01, \n",
    "                                            max_depth=7, \n",
    "                                            n_estimators=500)\n",
    "        log_model = LogisticRegression(solver='liblinear',\n",
    "                                       C=100,\n",
    "                                       penalty='l2')\n",
    "\n",
    "        NB_clf = GaussianNB(var_smoothing = 1e-05)\n",
    "        \n",
    "        \n",
    "        AdB_clf = AdaBoostClassifier(base_estimator= None, learning_rate=1, n_estimators=500)\n",
    "\n",
    "    \n",
    "        models = [\n",
    "                  ('LogReg', log_model), \n",
    "                  ('RF', RF_clf),\n",
    "                  ('GB', GB_clf),\n",
    "                  ('XGB', XGB_clf),\n",
    "                  ('NB', NB_clf),\n",
    "                  ('AdB', AdB_clf)\n",
    "                ] \n",
    "        \n",
    "    \n",
    "    scoring = ['accuracy', 'precision', 'recall', 'f1', 'average_precision','roc_auc']\n",
    "    train_score_dfs = []\n",
    "    test_score_dfs = []\n",
    "    test_score_dict = {}\n",
    "    target_names = ['No Redeem', 'Yes Redeem']\n",
    "    for name, model in models:\n",
    "        \n",
    "        # GET TRAIN SCORES\n",
    "        kfold = KFold(n_splits=5, shuffle=True, random_state=270)\n",
    "        cv_results = cross_validate(model, X_train, y_train, cv=kfold, scoring=scoring)\n",
    "        df1 = pd.DataFrame(cv_results)\n",
    "        df1['model'] = name\n",
    "        train_score_dfs.append(df1)\n",
    "    \n",
    "        # GET TEST SCORES\n",
    "        clf = model.fit(X_train, y_train)\n",
    "        y_pred = clf.predict(X_test)\n",
    "        #print(name)\n",
    "        #print(classification_report(y_test, y_pred, target_names=target_names))\n",
    "        \n",
    "        # predict probabilities\n",
    "        pred_probs = model.predict_proba(X_test)\n",
    "        # keep probabilities for the positive class only\n",
    "        pred_probs = pred_probs[:, 1]\n",
    "        \n",
    "        test_score_dict = {'Accuracy': round(accuracy_score(y_test, y_pred),2),\n",
    "                           'Precision': round(precision_score(y_test, y_pred),2),\n",
    "                           'Recall': round(recall_score(y_test, y_pred),2),\n",
    "                           'F1': round(f1_score(y_test, y_pred),2),\n",
    "                           'Average PC': round(average_precision_score(y_test, pred_probs),2),\n",
    "                           'ROC_AUC': round(roc_auc_score(y_test, y_pred),2)\n",
    "                          }\n",
    "        \n",
    "        df2 = pd.DataFrame.from_dict(test_score_dict, orient='index').transpose()\n",
    "        df2['Model'] = name\n",
    "        test_score_dfs.append(df2)\n",
    "    \n",
    "    # combine all score sets into final df\n",
    "    final_train_scores = pd.concat(train_score_dfs, ignore_index=True)\n",
    "    final_test_scores = pd.concat(test_score_dfs, ignore_index=True)\n",
    "    \n",
    "    return final_train_scores, final_test_scores"
   ]
  },
  {
   "cell_type": "code",
   "execution_count": 157,
   "metadata": {},
   "outputs": [
    {
     "name": "stderr",
     "output_type": "stream",
     "text": [
      "/Users/chautran/opt/anaconda3/lib/python3.8/site-packages/xgboost/sklearn.py:892: UserWarning: The use of label encoder in XGBClassifier is deprecated and will be removed in a future release. To remove this warning, do the following: 1) Pass option use_label_encoder=False when constructing XGBClassifier object; and 2) Encode your labels (y) as integers starting with 0, i.e. 0, 1, 2, ..., [num_class - 1].\n",
      "  warnings.warn(label_encoder_deprecation_msg, UserWarning)\n"
     ]
    },
    {
     "name": "stdout",
     "output_type": "stream",
     "text": [
      "[13:39:38] WARNING: /Users/travis/build/dmlc/xgboost/src/learner.cc:1061: Starting in XGBoost 1.3.0, the default evaluation metric used with the objective 'binary:logistic' was changed from 'error' to 'logloss'. Explicitly set eval_metric if you'd like to restore the old behavior.\n"
     ]
    },
    {
     "name": "stderr",
     "output_type": "stream",
     "text": [
      "/Users/chautran/opt/anaconda3/lib/python3.8/site-packages/xgboost/sklearn.py:892: UserWarning: The use of label encoder in XGBClassifier is deprecated and will be removed in a future release. To remove this warning, do the following: 1) Pass option use_label_encoder=False when constructing XGBClassifier object; and 2) Encode your labels (y) as integers starting with 0, i.e. 0, 1, 2, ..., [num_class - 1].\n",
      "  warnings.warn(label_encoder_deprecation_msg, UserWarning)\n"
     ]
    },
    {
     "name": "stdout",
     "output_type": "stream",
     "text": [
      "[13:39:38] WARNING: /Users/travis/build/dmlc/xgboost/src/learner.cc:1061: Starting in XGBoost 1.3.0, the default evaluation metric used with the objective 'binary:logistic' was changed from 'error' to 'logloss'. Explicitly set eval_metric if you'd like to restore the old behavior.\n"
     ]
    },
    {
     "name": "stderr",
     "output_type": "stream",
     "text": [
      "/Users/chautran/opt/anaconda3/lib/python3.8/site-packages/xgboost/sklearn.py:892: UserWarning: The use of label encoder in XGBClassifier is deprecated and will be removed in a future release. To remove this warning, do the following: 1) Pass option use_label_encoder=False when constructing XGBClassifier object; and 2) Encode your labels (y) as integers starting with 0, i.e. 0, 1, 2, ..., [num_class - 1].\n",
      "  warnings.warn(label_encoder_deprecation_msg, UserWarning)\n"
     ]
    },
    {
     "name": "stdout",
     "output_type": "stream",
     "text": [
      "[13:39:38] WARNING: /Users/travis/build/dmlc/xgboost/src/learner.cc:1061: Starting in XGBoost 1.3.0, the default evaluation metric used with the objective 'binary:logistic' was changed from 'error' to 'logloss'. Explicitly set eval_metric if you'd like to restore the old behavior.\n"
     ]
    },
    {
     "name": "stderr",
     "output_type": "stream",
     "text": [
      "/Users/chautran/opt/anaconda3/lib/python3.8/site-packages/xgboost/sklearn.py:892: UserWarning: The use of label encoder in XGBClassifier is deprecated and will be removed in a future release. To remove this warning, do the following: 1) Pass option use_label_encoder=False when constructing XGBClassifier object; and 2) Encode your labels (y) as integers starting with 0, i.e. 0, 1, 2, ..., [num_class - 1].\n",
      "  warnings.warn(label_encoder_deprecation_msg, UserWarning)\n"
     ]
    },
    {
     "name": "stdout",
     "output_type": "stream",
     "text": [
      "[13:39:39] WARNING: /Users/travis/build/dmlc/xgboost/src/learner.cc:1061: Starting in XGBoost 1.3.0, the default evaluation metric used with the objective 'binary:logistic' was changed from 'error' to 'logloss'. Explicitly set eval_metric if you'd like to restore the old behavior.\n"
     ]
    },
    {
     "name": "stderr",
     "output_type": "stream",
     "text": [
      "/Users/chautran/opt/anaconda3/lib/python3.8/site-packages/xgboost/sklearn.py:892: UserWarning: The use of label encoder in XGBClassifier is deprecated and will be removed in a future release. To remove this warning, do the following: 1) Pass option use_label_encoder=False when constructing XGBClassifier object; and 2) Encode your labels (y) as integers starting with 0, i.e. 0, 1, 2, ..., [num_class - 1].\n",
      "  warnings.warn(label_encoder_deprecation_msg, UserWarning)\n"
     ]
    },
    {
     "name": "stdout",
     "output_type": "stream",
     "text": [
      "[13:39:39] WARNING: /Users/travis/build/dmlc/xgboost/src/learner.cc:1061: Starting in XGBoost 1.3.0, the default evaluation metric used with the objective 'binary:logistic' was changed from 'error' to 'logloss'. Explicitly set eval_metric if you'd like to restore the old behavior.\n"
     ]
    },
    {
     "name": "stderr",
     "output_type": "stream",
     "text": [
      "/Users/chautran/opt/anaconda3/lib/python3.8/site-packages/xgboost/sklearn.py:892: UserWarning: The use of label encoder in XGBClassifier is deprecated and will be removed in a future release. To remove this warning, do the following: 1) Pass option use_label_encoder=False when constructing XGBClassifier object; and 2) Encode your labels (y) as integers starting with 0, i.e. 0, 1, 2, ..., [num_class - 1].\n",
      "  warnings.warn(label_encoder_deprecation_msg, UserWarning)\n"
     ]
    },
    {
     "name": "stdout",
     "output_type": "stream",
     "text": [
      "[13:39:39] WARNING: /Users/travis/build/dmlc/xgboost/src/learner.cc:1061: Starting in XGBoost 1.3.0, the default evaluation metric used with the objective 'binary:logistic' was changed from 'error' to 'logloss'. Explicitly set eval_metric if you'd like to restore the old behavior.\n",
      "MEAN CV\n",
      "        fit_time  score_time  test_accuracy  test_precision  test_recall   test_f1  test_average_precision  test_roc_auc\n",
      "model                                                                                                                   \n",
      "RF      0.329000    0.052450       0.839367        0.889018     0.782252  0.830795                0.901080      0.892410\n",
      "XGB     0.258199    0.014154       0.820937        0.841592     0.798463  0.818950                0.917076      0.899122\n",
      "NB      0.001601    0.007006       0.841392        1.000000     0.687673  0.814239                0.895125      0.836206\n",
      "Ada     0.154757    0.049132       0.835212        0.961679     0.703925  0.812504                0.923210      0.887464\n",
      "GB      0.163083    0.007798       0.834212        0.961778     0.702021  0.811175                0.923466      0.893170\n",
      "LogReg  0.031678    0.009585       0.828100        1.000000     0.661563  0.795120                0.914895      0.873998\n",
      "KNN     0.003288    0.038826       0.808639        0.878538     0.728154  0.793542                0.868156      0.852205\n",
      "MEAN STD\n",
      "        fit_time  score_time  test_accuracy  test_precision  test_recall   test_f1  test_average_precision  test_roc_auc\n",
      "model                                                                                                                   \n",
      "GB      0.009676    0.001193       0.016494        0.030332     0.030164  0.023148                0.019226      0.026838\n",
      "Ada     0.049799    0.021630       0.021852        0.025914     0.034929  0.027450                0.013152      0.019982\n",
      "NB      0.000146    0.000980       0.021630        0.000000     0.046030  0.031971                0.015179      0.015332\n",
      "XGB     0.068547    0.002526       0.029403        0.032981     0.044647  0.032549                0.023405      0.026142\n",
      "KNN     0.000586    0.007468       0.023187        0.048196     0.066272  0.033078                0.024392      0.028125\n",
      "LogReg  0.013077    0.000780       0.028652        0.000000     0.058731  0.042268                0.024922      0.036552\n",
      "RF      0.065050    0.014081       0.037549        0.041032     0.068280  0.044928                0.039667      0.032555\n",
      "TEST SCORE\n",
      "   Accuracy  Precision  Recall    F1  Average PC  ROC_AUC   Model\n",
      "2      0.84       0.92    0.73  0.81        0.91     0.84      GB\n",
      "5      0.84       1.00    0.66  0.79        0.88     0.83      NB\n",
      "0      0.83       1.00    0.64  0.78        0.89     0.82  LogReg\n",
      "6      0.82       0.90    0.69  0.78        0.90     0.81     Ada\n",
      "1      0.81       0.81    0.77  0.79        0.88     0.81      RF\n",
      "4      0.80       0.84    0.72  0.77        0.86     0.80     KNN\n",
      "3      0.77       0.75    0.75  0.75        0.88     0.77     XGB\n"
     ]
    }
   ],
   "source": [
    "# Cross validation without hyperparameter tunning\n",
    "\n",
    "cv_scores1, test_scores1 = cross_val_models(Xs_train, Xs_test, ys_train, ys_test,imbalancedData=False) \n",
    "\n",
    "print('\\n MEAN CV')\n",
    "print(cv_scores1.groupby('model').mean().sort_values(['test_f1','test_accuracy'],ascending=False))\n",
    "print('\\n MEAN STD')\n",
    "print(cv_scores1.groupby('model').std().sort_values(['test_f1','test_accuracy'],ascending=True))\n",
    "print('\\n TEST SCORE')\n",
    "print(test_scores1.sort_values(['Accuracy'],ascending=False))"
   ]
  },
  {
   "cell_type": "code",
   "execution_count": 203,
   "metadata": {},
   "outputs": [
    {
     "name": "stderr",
     "output_type": "stream",
     "text": [
      "/Users/chautran/opt/anaconda3/lib/python3.8/site-packages/xgboost/sklearn.py:892: UserWarning: The use of label encoder in XGBClassifier is deprecated and will be removed in a future release. To remove this warning, do the following: 1) Pass option use_label_encoder=False when constructing XGBClassifier object; and 2) Encode your labels (y) as integers starting with 0, i.e. 0, 1, 2, ..., [num_class - 1].\n",
      "  warnings.warn(label_encoder_deprecation_msg, UserWarning)\n"
     ]
    },
    {
     "name": "stdout",
     "output_type": "stream",
     "text": [
      "[14:41:27] WARNING: /Users/travis/build/dmlc/xgboost/src/learner.cc:1061: Starting in XGBoost 1.3.0, the default evaluation metric used with the objective 'binary:logistic' was changed from 'error' to 'logloss'. Explicitly set eval_metric if you'd like to restore the old behavior.\n"
     ]
    },
    {
     "name": "stderr",
     "output_type": "stream",
     "text": [
      "/Users/chautran/opt/anaconda3/lib/python3.8/site-packages/xgboost/sklearn.py:892: UserWarning: The use of label encoder in XGBClassifier is deprecated and will be removed in a future release. To remove this warning, do the following: 1) Pass option use_label_encoder=False when constructing XGBClassifier object; and 2) Encode your labels (y) as integers starting with 0, i.e. 0, 1, 2, ..., [num_class - 1].\n",
      "  warnings.warn(label_encoder_deprecation_msg, UserWarning)\n"
     ]
    },
    {
     "name": "stdout",
     "output_type": "stream",
     "text": [
      "[14:41:28] WARNING: /Users/travis/build/dmlc/xgboost/src/learner.cc:1061: Starting in XGBoost 1.3.0, the default evaluation metric used with the objective 'binary:logistic' was changed from 'error' to 'logloss'. Explicitly set eval_metric if you'd like to restore the old behavior.\n"
     ]
    },
    {
     "name": "stderr",
     "output_type": "stream",
     "text": [
      "/Users/chautran/opt/anaconda3/lib/python3.8/site-packages/xgboost/sklearn.py:892: UserWarning: The use of label encoder in XGBClassifier is deprecated and will be removed in a future release. To remove this warning, do the following: 1) Pass option use_label_encoder=False when constructing XGBClassifier object; and 2) Encode your labels (y) as integers starting with 0, i.e. 0, 1, 2, ..., [num_class - 1].\n",
      "  warnings.warn(label_encoder_deprecation_msg, UserWarning)\n"
     ]
    },
    {
     "name": "stdout",
     "output_type": "stream",
     "text": [
      "[14:41:28] WARNING: /Users/travis/build/dmlc/xgboost/src/learner.cc:1061: Starting in XGBoost 1.3.0, the default evaluation metric used with the objective 'binary:logistic' was changed from 'error' to 'logloss'. Explicitly set eval_metric if you'd like to restore the old behavior.\n"
     ]
    },
    {
     "name": "stderr",
     "output_type": "stream",
     "text": [
      "/Users/chautran/opt/anaconda3/lib/python3.8/site-packages/xgboost/sklearn.py:892: UserWarning: The use of label encoder in XGBClassifier is deprecated and will be removed in a future release. To remove this warning, do the following: 1) Pass option use_label_encoder=False when constructing XGBClassifier object; and 2) Encode your labels (y) as integers starting with 0, i.e. 0, 1, 2, ..., [num_class - 1].\n",
      "  warnings.warn(label_encoder_deprecation_msg, UserWarning)\n"
     ]
    },
    {
     "name": "stdout",
     "output_type": "stream",
     "text": [
      "[14:41:29] WARNING: /Users/travis/build/dmlc/xgboost/src/learner.cc:1061: Starting in XGBoost 1.3.0, the default evaluation metric used with the objective 'binary:logistic' was changed from 'error' to 'logloss'. Explicitly set eval_metric if you'd like to restore the old behavior.\n"
     ]
    },
    {
     "name": "stderr",
     "output_type": "stream",
     "text": [
      "/Users/chautran/opt/anaconda3/lib/python3.8/site-packages/xgboost/sklearn.py:892: UserWarning: The use of label encoder in XGBClassifier is deprecated and will be removed in a future release. To remove this warning, do the following: 1) Pass option use_label_encoder=False when constructing XGBClassifier object; and 2) Encode your labels (y) as integers starting with 0, i.e. 0, 1, 2, ..., [num_class - 1].\n",
      "  warnings.warn(label_encoder_deprecation_msg, UserWarning)\n"
     ]
    },
    {
     "name": "stdout",
     "output_type": "stream",
     "text": [
      "[14:41:30] WARNING: /Users/travis/build/dmlc/xgboost/src/learner.cc:1061: Starting in XGBoost 1.3.0, the default evaluation metric used with the objective 'binary:logistic' was changed from 'error' to 'logloss'. Explicitly set eval_metric if you'd like to restore the old behavior.\n"
     ]
    },
    {
     "name": "stderr",
     "output_type": "stream",
     "text": [
      "/Users/chautran/opt/anaconda3/lib/python3.8/site-packages/xgboost/sklearn.py:892: UserWarning: The use of label encoder in XGBClassifier is deprecated and will be removed in a future release. To remove this warning, do the following: 1) Pass option use_label_encoder=False when constructing XGBClassifier object; and 2) Encode your labels (y) as integers starting with 0, i.e. 0, 1, 2, ..., [num_class - 1].\n",
      "  warnings.warn(label_encoder_deprecation_msg, UserWarning)\n"
     ]
    },
    {
     "name": "stdout",
     "output_type": "stream",
     "text": [
      "[14:41:30] WARNING: /Users/travis/build/dmlc/xgboost/src/learner.cc:1061: Starting in XGBoost 1.3.0, the default evaluation metric used with the objective 'binary:logistic' was changed from 'error' to 'logloss'. Explicitly set eval_metric if you'd like to restore the old behavior.\n",
      "\n",
      " MEAN CV\n",
      "        fit_time  score_time  test_accuracy  test_precision  test_recall   test_f1  test_average_precision  test_roc_auc\n",
      "model                                                                                                                   \n",
      "RF      3.649640    0.465780       0.837326        0.886056     0.780171  0.828242                0.918862      0.900231\n",
      "GB      2.217576    0.015855       0.836285        0.917802     0.744016  0.821139                0.927964      0.899347\n",
      "AdB     1.536167    0.291022       0.838289        0.949990     0.720052  0.818826                0.922222      0.885772\n",
      "NB      0.002558    0.011090       0.841392        1.000000     0.687673  0.814239                0.894899      0.835681\n",
      "LogReg  0.020463    0.008885       0.839330        0.989189     0.691858  0.813522                0.923017      0.884628\n",
      "XGB     0.696679    0.016912       0.817881        0.888213     0.731603  0.801534                0.922065      0.899219\n",
      "\n",
      " MEAN STD\n",
      "        fit_time  score_time  test_accuracy  test_precision  test_recall   test_f1  test_average_precision  test_roc_auc\n",
      "model                                                                                                                   \n",
      "AdB     0.171505    0.063891       0.019289        0.024054     0.032246  0.023749                0.014364      0.021380\n",
      "LogReg  0.005996    0.001710       0.021353        0.024174     0.041375  0.028851                0.025165      0.038523\n",
      "NB      0.000404    0.001000       0.021630        0.000000     0.046030  0.031971                0.014918      0.014823\n",
      "GB      0.238954    0.001871       0.035737        0.041114     0.054757  0.043974                0.023600      0.032611\n",
      "RF      0.470521    0.126128       0.036382        0.023540     0.075380  0.045592                0.027882      0.031520\n",
      "XGB     0.090665    0.006048       0.044800        0.034296     0.073994  0.056478                0.024906      0.033063\n",
      "\n",
      " TEST SCORE\n",
      "   Accuracy  Precision  Recall    F1  Average PC  ROC_AUC   Model\n",
      "4      0.84       1.00    0.66  0.79        0.87     0.83      NB\n",
      "0      0.83       0.95    0.67  0.78        0.90     0.82  LogReg\n",
      "5      0.83       0.89    0.72  0.80        0.90     0.82     AdB\n",
      "1      0.82       0.82    0.78  0.80        0.89     0.81      RF\n",
      "2      0.82       0.87    0.74  0.80        0.90     0.82      GB\n",
      "3      0.82       0.85    0.75  0.80        0.90     0.82     XGB\n"
     ]
    }
   ],
   "source": [
    "# Compare models with cross validation + hyperparameter tunning\n",
    "\n",
    "cv_scores2, test_scores2 = cross_val_models(Xs_train, Xs_test, ys_train, ys_test,imbalancedData=False,hyperTune=True)\n",
    "\n",
    "print('\\n MEAN CV')\n",
    "print(cv_scores2.groupby('model').mean().sort_values(['test_f1','test_accuracy'],ascending=False))\n",
    "print('\\n MEAN STD')\n",
    "print(cv_scores2.groupby('model').std().sort_values(['test_f1','test_accuracy'],ascending=True))\n",
    "print('\\n TEST SCORE')\n",
    "print(test_scores2.sort_values(['Accuracy'],ascending=False))"
   ]
  },
  {
   "cell_type": "code",
   "execution_count": 161,
   "metadata": {},
   "outputs": [
    {
     "data": {
      "text/html": [
       "<div>\n",
       "<style scoped>\n",
       "    .dataframe tbody tr th:only-of-type {\n",
       "        vertical-align: middle;\n",
       "    }\n",
       "\n",
       "    .dataframe tbody tr th {\n",
       "        vertical-align: top;\n",
       "    }\n",
       "\n",
       "    .dataframe thead th {\n",
       "        text-align: right;\n",
       "    }\n",
       "</style>\n",
       "<table border=\"1\" class=\"dataframe\">\n",
       "  <thead>\n",
       "    <tr style=\"text-align: right;\">\n",
       "      <th></th>\n",
       "      <th>fit_time</th>\n",
       "      <th>score_time</th>\n",
       "      <th>test_accuracy</th>\n",
       "      <th>test_precision</th>\n",
       "      <th>test_recall</th>\n",
       "      <th>test_f1</th>\n",
       "      <th>test_average_precision</th>\n",
       "      <th>test_roc_auc</th>\n",
       "    </tr>\n",
       "    <tr>\n",
       "      <th>model</th>\n",
       "      <th></th>\n",
       "      <th></th>\n",
       "      <th></th>\n",
       "      <th></th>\n",
       "      <th></th>\n",
       "      <th></th>\n",
       "      <th></th>\n",
       "      <th></th>\n",
       "    </tr>\n",
       "  </thead>\n",
       "  <tbody>\n",
       "    <tr>\n",
       "      <th>RF</th>\n",
       "      <td>2.213255</td>\n",
       "      <td>0.403467</td>\n",
       "      <td>0.843464</td>\n",
       "      <td>0.892913</td>\n",
       "      <td>0.786357</td>\n",
       "      <td>0.834848</td>\n",
       "      <td>0.918680</td>\n",
       "      <td>0.899849</td>\n",
       "    </tr>\n",
       "    <tr>\n",
       "      <th>GB</th>\n",
       "      <td>2.085378</td>\n",
       "      <td>0.015871</td>\n",
       "      <td>0.836285</td>\n",
       "      <td>0.917802</td>\n",
       "      <td>0.744016</td>\n",
       "      <td>0.821139</td>\n",
       "      <td>0.927964</td>\n",
       "      <td>0.899347</td>\n",
       "    </tr>\n",
       "    <tr>\n",
       "      <th>AdB</th>\n",
       "      <td>1.542209</td>\n",
       "      <td>0.318170</td>\n",
       "      <td>0.838289</td>\n",
       "      <td>0.949990</td>\n",
       "      <td>0.720052</td>\n",
       "      <td>0.818826</td>\n",
       "      <td>0.922222</td>\n",
       "      <td>0.885772</td>\n",
       "    </tr>\n",
       "    <tr>\n",
       "      <th>NB</th>\n",
       "      <td>0.002372</td>\n",
       "      <td>0.010041</td>\n",
       "      <td>0.841392</td>\n",
       "      <td>1.000000</td>\n",
       "      <td>0.687673</td>\n",
       "      <td>0.814239</td>\n",
       "      <td>0.894899</td>\n",
       "      <td>0.835681</td>\n",
       "    </tr>\n",
       "    <tr>\n",
       "      <th>LogReg</th>\n",
       "      <td>0.024551</td>\n",
       "      <td>0.010355</td>\n",
       "      <td>0.839330</td>\n",
       "      <td>0.989189</td>\n",
       "      <td>0.691858</td>\n",
       "      <td>0.813522</td>\n",
       "      <td>0.923017</td>\n",
       "      <td>0.884628</td>\n",
       "    </tr>\n",
       "    <tr>\n",
       "      <th>XGB</th>\n",
       "      <td>0.676167</td>\n",
       "      <td>0.015301</td>\n",
       "      <td>0.817881</td>\n",
       "      <td>0.888213</td>\n",
       "      <td>0.731603</td>\n",
       "      <td>0.801534</td>\n",
       "      <td>0.922065</td>\n",
       "      <td>0.899219</td>\n",
       "    </tr>\n",
       "  </tbody>\n",
       "</table>\n",
       "</div>"
      ],
      "text/plain": [
       "        fit_time  score_time  test_accuracy  test_precision  test_recall   test_f1  test_average_precision  test_roc_auc\n",
       "model                                                                                                                   \n",
       "RF      2.213255    0.403467       0.843464        0.892913     0.786357  0.834848                0.918680      0.899849\n",
       "GB      2.085378    0.015871       0.836285        0.917802     0.744016  0.821139                0.927964      0.899347\n",
       "AdB     1.542209    0.318170       0.838289        0.949990     0.720052  0.818826                0.922222      0.885772\n",
       "NB      0.002372    0.010041       0.841392        1.000000     0.687673  0.814239                0.894899      0.835681\n",
       "LogReg  0.024551    0.010355       0.839330        0.989189     0.691858  0.813522                0.923017      0.884628\n",
       "XGB     0.676167    0.015301       0.817881        0.888213     0.731603  0.801534                0.922065      0.899219"
      ]
     },
     "execution_count": 161,
     "metadata": {},
     "output_type": "execute_result"
    }
   ],
   "source": [
    "cv_scores2.groupby('model').mean().sort_values(['test_f1','test_accuracy'],ascending=False)\n"
   ]
  },
  {
   "cell_type": "code",
   "execution_count": 162,
   "metadata": {},
   "outputs": [
    {
     "data": {
      "text/html": [
       "<div>\n",
       "<style scoped>\n",
       "    .dataframe tbody tr th:only-of-type {\n",
       "        vertical-align: middle;\n",
       "    }\n",
       "\n",
       "    .dataframe tbody tr th {\n",
       "        vertical-align: top;\n",
       "    }\n",
       "\n",
       "    .dataframe thead th {\n",
       "        text-align: right;\n",
       "    }\n",
       "</style>\n",
       "<table border=\"1\" class=\"dataframe\">\n",
       "  <thead>\n",
       "    <tr style=\"text-align: right;\">\n",
       "      <th></th>\n",
       "      <th>fit_time</th>\n",
       "      <th>score_time</th>\n",
       "      <th>test_accuracy</th>\n",
       "      <th>test_precision</th>\n",
       "      <th>test_recall</th>\n",
       "      <th>test_f1</th>\n",
       "      <th>test_average_precision</th>\n",
       "      <th>test_roc_auc</th>\n",
       "    </tr>\n",
       "    <tr>\n",
       "      <th>model</th>\n",
       "      <th></th>\n",
       "      <th></th>\n",
       "      <th></th>\n",
       "      <th></th>\n",
       "      <th></th>\n",
       "      <th></th>\n",
       "      <th></th>\n",
       "      <th></th>\n",
       "    </tr>\n",
       "  </thead>\n",
       "  <tbody>\n",
       "    <tr>\n",
       "      <th>XGB</th>\n",
       "      <td>0.143973</td>\n",
       "      <td>0.002773</td>\n",
       "      <td>0.044800</td>\n",
       "      <td>0.034296</td>\n",
       "      <td>0.073994</td>\n",
       "      <td>0.056478</td>\n",
       "      <td>0.024906</td>\n",
       "      <td>0.033063</td>\n",
       "    </tr>\n",
       "    <tr>\n",
       "      <th>RF</th>\n",
       "      <td>0.416797</td>\n",
       "      <td>0.213465</td>\n",
       "      <td>0.035735</td>\n",
       "      <td>0.027203</td>\n",
       "      <td>0.071609</td>\n",
       "      <td>0.044328</td>\n",
       "      <td>0.026658</td>\n",
       "      <td>0.030728</td>\n",
       "    </tr>\n",
       "    <tr>\n",
       "      <th>GB</th>\n",
       "      <td>0.337825</td>\n",
       "      <td>0.003671</td>\n",
       "      <td>0.035737</td>\n",
       "      <td>0.041114</td>\n",
       "      <td>0.054757</td>\n",
       "      <td>0.043974</td>\n",
       "      <td>0.023600</td>\n",
       "      <td>0.032611</td>\n",
       "    </tr>\n",
       "    <tr>\n",
       "      <th>NB</th>\n",
       "      <td>0.000179</td>\n",
       "      <td>0.000251</td>\n",
       "      <td>0.021630</td>\n",
       "      <td>0.000000</td>\n",
       "      <td>0.046030</td>\n",
       "      <td>0.031971</td>\n",
       "      <td>0.014918</td>\n",
       "      <td>0.014823</td>\n",
       "    </tr>\n",
       "    <tr>\n",
       "      <th>LogReg</th>\n",
       "      <td>0.009181</td>\n",
       "      <td>0.002629</td>\n",
       "      <td>0.021353</td>\n",
       "      <td>0.024174</td>\n",
       "      <td>0.041375</td>\n",
       "      <td>0.028851</td>\n",
       "      <td>0.025165</td>\n",
       "      <td>0.038523</td>\n",
       "    </tr>\n",
       "    <tr>\n",
       "      <th>AdB</th>\n",
       "      <td>0.061232</td>\n",
       "      <td>0.060933</td>\n",
       "      <td>0.019289</td>\n",
       "      <td>0.024054</td>\n",
       "      <td>0.032246</td>\n",
       "      <td>0.023749</td>\n",
       "      <td>0.014364</td>\n",
       "      <td>0.021380</td>\n",
       "    </tr>\n",
       "  </tbody>\n",
       "</table>\n",
       "</div>"
      ],
      "text/plain": [
       "        fit_time  score_time  test_accuracy  test_precision  test_recall   test_f1  test_average_precision  test_roc_auc\n",
       "model                                                                                                                   \n",
       "XGB     0.143973    0.002773       0.044800        0.034296     0.073994  0.056478                0.024906      0.033063\n",
       "RF      0.416797    0.213465       0.035735        0.027203     0.071609  0.044328                0.026658      0.030728\n",
       "GB      0.337825    0.003671       0.035737        0.041114     0.054757  0.043974                0.023600      0.032611\n",
       "NB      0.000179    0.000251       0.021630        0.000000     0.046030  0.031971                0.014918      0.014823\n",
       "LogReg  0.009181    0.002629       0.021353        0.024174     0.041375  0.028851                0.025165      0.038523\n",
       "AdB     0.061232    0.060933       0.019289        0.024054     0.032246  0.023749                0.014364      0.021380"
      ]
     },
     "execution_count": 162,
     "metadata": {},
     "output_type": "execute_result"
    }
   ],
   "source": [
    "cv_scores2.groupby('model').std().sort_values(['test_f1','test_accuracy'],ascending=False)"
   ]
  },
  {
   "cell_type": "code",
   "execution_count": 208,
   "metadata": {},
   "outputs": [
    {
     "name": "stderr",
     "output_type": "stream",
     "text": [
      "/Users/chautran/opt/anaconda3/lib/python3.8/site-packages/xgboost/sklearn.py:892: UserWarning: The use of label encoder in XGBClassifier is deprecated and will be removed in a future release. To remove this warning, do the following: 1) Pass option use_label_encoder=False when constructing XGBClassifier object; and 2) Encode your labels (y) as integers starting with 0, i.e. 0, 1, 2, ..., [num_class - 1].\n",
      "  warnings.warn(label_encoder_deprecation_msg, UserWarning)\n",
      "/Users/chautran/opt/anaconda3/lib/python3.8/site-packages/xgboost/sklearn.py:892: UserWarning: The use of label encoder in XGBClassifier is deprecated and will be removed in a future release. To remove this warning, do the following: 1) Pass option use_label_encoder=False when constructing XGBClassifier object; and 2) Encode your labels (y) as integers starting with 0, i.e. 0, 1, 2, ..., [num_class - 1].\n",
      "  warnings.warn(label_encoder_deprecation_msg, UserWarning)\n"
     ]
    },
    {
     "name": "stdout",
     "output_type": "stream",
     "text": [
      "[19:40:11] WARNING: /Users/travis/build/dmlc/xgboost/src/learner.cc:1061: Starting in XGBoost 1.3.0, the default evaluation metric used with the objective 'binary:logistic' was changed from 'error' to 'logloss'. Explicitly set eval_metric if you'd like to restore the old behavior.\n",
      "[19:40:11] WARNING: /Users/travis/build/dmlc/xgboost/src/learner.cc:1061: Starting in XGBoost 1.3.0, the default evaluation metric used with the objective 'binary:logistic' was changed from 'error' to 'logloss'. Explicitly set eval_metric if you'd like to restore the old behavior.\n"
     ]
    },
    {
     "name": "stderr",
     "output_type": "stream",
     "text": [
      "/Users/chautran/opt/anaconda3/lib/python3.8/site-packages/xgboost/sklearn.py:892: UserWarning: The use of label encoder in XGBClassifier is deprecated and will be removed in a future release. To remove this warning, do the following: 1) Pass option use_label_encoder=False when constructing XGBClassifier object; and 2) Encode your labels (y) as integers starting with 0, i.e. 0, 1, 2, ..., [num_class - 1].\n",
      "  warnings.warn(label_encoder_deprecation_msg, UserWarning)\n",
      "/Users/chautran/opt/anaconda3/lib/python3.8/site-packages/xgboost/sklearn.py:892: UserWarning: The use of label encoder in XGBClassifier is deprecated and will be removed in a future release. To remove this warning, do the following: 1) Pass option use_label_encoder=False when constructing XGBClassifier object; and 2) Encode your labels (y) as integers starting with 0, i.e. 0, 1, 2, ..., [num_class - 1].\n",
      "  warnings.warn(label_encoder_deprecation_msg, UserWarning)\n"
     ]
    },
    {
     "name": "stdout",
     "output_type": "stream",
     "text": [
      "[19:40:11] WARNING: /Users/travis/build/dmlc/xgboost/src/learner.cc:1061: Starting in XGBoost 1.3.0, the default evaluation metric used with the objective 'binary:logistic' was changed from 'error' to 'logloss'. Explicitly set eval_metric if you'd like to restore the old behavior.\n",
      "[19:40:12] WARNING: /Users/travis/build/dmlc/xgboost/src/learner.cc:1061: Starting in XGBoost 1.3.0, the default evaluation metric used with the objective 'binary:logistic' was changed from 'error' to 'logloss'. Explicitly set eval_metric if you'd like to restore the old behavior.\n"
     ]
    },
    {
     "name": "stderr",
     "output_type": "stream",
     "text": [
      "/Users/chautran/opt/anaconda3/lib/python3.8/site-packages/xgboost/sklearn.py:892: UserWarning: The use of label encoder in XGBClassifier is deprecated and will be removed in a future release. To remove this warning, do the following: 1) Pass option use_label_encoder=False when constructing XGBClassifier object; and 2) Encode your labels (y) as integers starting with 0, i.e. 0, 1, 2, ..., [num_class - 1].\n",
      "  warnings.warn(label_encoder_deprecation_msg, UserWarning)\n",
      "/Users/chautran/opt/anaconda3/lib/python3.8/site-packages/xgboost/sklearn.py:892: UserWarning: The use of label encoder in XGBClassifier is deprecated and will be removed in a future release. To remove this warning, do the following: 1) Pass option use_label_encoder=False when constructing XGBClassifier object; and 2) Encode your labels (y) as integers starting with 0, i.e. 0, 1, 2, ..., [num_class - 1].\n",
      "  warnings.warn(label_encoder_deprecation_msg, UserWarning)\n"
     ]
    },
    {
     "name": "stdout",
     "output_type": "stream",
     "text": [
      "[19:40:12] WARNING: /Users/travis/build/dmlc/xgboost/src/learner.cc:1061: Starting in XGBoost 1.3.0, the default evaluation metric used with the objective 'binary:logistic' was changed from 'error' to 'logloss'. Explicitly set eval_metric if you'd like to restore the old behavior.\n",
      "[19:40:12] WARNING: /Users/travis/build/dmlc/xgboost/src/learner.cc:1061: Starting in XGBoost 1.3.0, the default evaluation metric used with the objective 'binary:logistic' was changed from 'error' to 'logloss'. Explicitly set eval_metric if you'd like to restore the old behavior.\n",
      "\n",
      " MEAN CV\n",
      "        fit_time  score_time  test_accuracy  test_precision  test_recall   test_f1  test_average_precision  test_roc_auc\n",
      "model                                                                                                                   \n",
      "RF      4.583797    0.573065       0.842439        0.892877     0.784233  0.833730                0.919765      0.900149\n",
      "GB      2.343706    0.016050       0.836285        0.917802     0.744016  0.821139                0.927964      0.899347\n",
      "AdB     1.248812    0.275602       0.838289        0.949990     0.720052  0.818826                0.922222      0.885772\n",
      "NB      0.002557    0.009806       0.841392        1.000000     0.687673  0.814239                0.894899      0.835681\n",
      "XGB     0.176420    0.011340       0.829126        0.902026     0.744261  0.814155                0.922749      0.896751\n",
      "LogReg  0.026191    0.014316       0.839330        0.989189     0.691858  0.813522                0.923017      0.884628\n",
      "\n",
      " MEAN STD\n",
      "        fit_time  score_time  test_accuracy  test_precision  test_recall   test_f1  test_average_precision  test_roc_auc\n",
      "model                                                                                                                   \n",
      "AdB     0.032712    0.021975       0.019289        0.024054     0.032246  0.023749                0.014364      0.021380\n",
      "LogReg  0.009459    0.005610       0.021353        0.024174     0.041375  0.028851                0.025165      0.038523\n",
      "NB      0.000266    0.000293       0.021630        0.000000     0.046030  0.031971                0.014918      0.014823\n",
      "RF      0.717303    0.229646       0.033044        0.027745     0.067491  0.041290                0.027160      0.031905\n",
      "GB      0.482127    0.003367       0.035737        0.041114     0.054757  0.043974                0.023600      0.032611\n",
      "XGB     0.047544    0.000195       0.040402        0.032270     0.073623  0.051616                0.021754      0.029283\n",
      "\n",
      " TEST SCORE\n",
      "   Accuracy  Precision  Recall    F1  Average PC  ROC_AUC   Model\n",
      "4      0.84       1.00    0.66  0.79        0.87     0.83      NB\n",
      "0      0.83       0.95    0.67  0.78        0.90     0.82  LogReg\n",
      "5      0.83       0.89    0.72  0.80        0.90     0.82     AdB\n",
      "1      0.82       0.83    0.78  0.81        0.89     0.82      RF\n",
      "2      0.82       0.87    0.74  0.80        0.90     0.82      GB\n",
      "3      0.82       0.85    0.75  0.79        0.90     0.82     XGB\n"
     ]
    }
   ],
   "source": [
    "# Compare models with cross validation + hyperparameter tunning\n",
    "\n",
    "cv_scores3, test_scores3 = cross_val_models(Xs_train, Xs_test, ys_train, ys_test,imbalancedData=False,hyperTune=True)\n",
    "\n",
    "print('\\n MEAN CV')\n",
    "print(cv_scores3.groupby('model').mean().sort_values(['test_f1','test_accuracy'],ascending=False))\n",
    "print('\\n MEAN STD')\n",
    "print(cv_scores3.groupby('model').std().sort_values(['test_f1','test_accuracy'],ascending=True))\n",
    "print('\\n TEST SCORE')\n",
    "print(test_scores3.sort_values(['Accuracy'],ascending=False))"
   ]
  },
  {
   "cell_type": "markdown",
   "metadata": {},
   "source": [
    "### AN ATTEMPT ON DEEP LEARNING USING KERAS<a id=\"deepLearning\"></a>\n",
    "[Back to top](#top7)"
   ]
  },
  {
   "cell_type": "code",
   "execution_count": 181,
   "metadata": {},
   "outputs": [],
   "source": [
    "# Apply Keras deep learning model\n",
    "\n",
    "def print_report(y_actual, y_predict):\n",
    "    confusion = pd.DataFrame(confusion_matrix(y_actual, y_predict),\n",
    "                             index=['actual_0', 'actual_1'],\n",
    "                             columns=['predicted_0','predicted_1'])\n",
    "    display(confusion)\n",
    "    print(classification_report(y_actual, y_predict))\n",
    "\n",
    "def run_keras(X_train, X_test, y_train, y_test, epochs=30, batch_size=10, optimizer='adam'):\n",
    "    \n",
    "    input_nodes = X_train.shape[1]\n",
    "\n",
    "    model = Sequential()\n",
    "    model.add(Input((input_nodes,)))\n",
    "    model.add(Dense(16, activation=\"relu\"))\n",
    "    model.add(Dropout(0.3, seed=1))\n",
    "    model.add(Dense(8, activation=\"relu\"))\n",
    "    model.add(Dropout(0.3, seed=2))\n",
    "    model.add(Dense(2, activation='softmax'))\n",
    "    \n",
    "    # print model summary\n",
    "    model.summary()\n",
    "    \n",
    "    # compile the model\n",
    "    model.compile(optimizer=optimizer, \n",
    "              loss='categorical_crossentropy', \n",
    "              metrics=['accuracy'])\n",
    "\n",
    "    history = model.fit(\n",
    "        X_train,\n",
    "        to_categorical(y_train),\n",
    "        batch_size=batch_size,\n",
    "        epochs=epochs,\n",
    "        validation_split=.2,\n",
    "        verbose=1,\n",
    "    )\n",
    "    print('-----------------------TRAIN----------------------')\n",
    "    pred_train= model.predict(X_train)\n",
    "    pred_train = [0 if x[0]>.5 else 1 for x in pred_train]\n",
    "    print_report(y_train, pred_train)\n",
    "    \n",
    "    print('-----------------------TEST----------------------')\n",
    "    pred_test= model.predict(X_test)\n",
    "    pred_test = [0 if x[0]>.5 else 1 for x in pred_test]\n",
    "    print_report(y_test, pred_test)\n",
    "\n",
    "    return history.history, model"
   ]
  },
  {
   "cell_type": "code",
   "execution_count": 182,
   "metadata": {},
   "outputs": [
    {
     "name": "stdout",
     "output_type": "stream",
     "text": [
      "Model: \"sequential_15\"\n",
      "_________________________________________________________________\n",
      "Layer (type)                 Output Shape              Param #   \n",
      "=================================================================\n",
      "dense_45 (Dense)             (None, 16)                576       \n",
      "_________________________________________________________________\n",
      "dropout_24 (Dropout)         (None, 16)                0         \n",
      "_________________________________________________________________\n",
      "dense_46 (Dense)             (None, 8)                 136       \n",
      "_________________________________________________________________\n",
      "dropout_25 (Dropout)         (None, 8)                 0         \n",
      "_________________________________________________________________\n",
      "dense_47 (Dense)             (None, 2)                 18        \n",
      "=================================================================\n",
      "Total params: 730\n",
      "Trainable params: 730\n",
      "Non-trainable params: 0\n",
      "_________________________________________________________________\n",
      "Epoch 1/30\n",
      "79/79 [==============================] - 1s 5ms/step - loss: 0.8554 - accuracy: 0.5647 - val_loss: 0.6604 - val_accuracy: 0.7245\n",
      "Epoch 2/30\n",
      "79/79 [==============================] - 0s 3ms/step - loss: 0.7147 - accuracy: 0.6310 - val_loss: 0.5553 - val_accuracy: 0.7908\n",
      "Epoch 3/30\n",
      "79/79 [==============================] - 0s 4ms/step - loss: 0.5852 - accuracy: 0.7056 - val_loss: 0.5090 - val_accuracy: 0.8061\n",
      "Epoch 4/30\n",
      "79/79 [==============================] - 0s 4ms/step - loss: 0.5306 - accuracy: 0.7544 - val_loss: 0.4816 - val_accuracy: 0.8061\n",
      "Epoch 5/30\n",
      "79/79 [==============================] - 0s 3ms/step - loss: 0.5229 - accuracy: 0.7646 - val_loss: 0.4625 - val_accuracy: 0.8061\n",
      "Epoch 6/30\n",
      "79/79 [==============================] - 0s 3ms/step - loss: 0.5019 - accuracy: 0.7879 - val_loss: 0.4474 - val_accuracy: 0.8061\n",
      "Epoch 7/30\n",
      "79/79 [==============================] - 0s 3ms/step - loss: 0.4603 - accuracy: 0.8005 - val_loss: 0.4371 - val_accuracy: 0.8112\n",
      "Epoch 8/30\n",
      "79/79 [==============================] - 0s 3ms/step - loss: 0.4682 - accuracy: 0.7870 - val_loss: 0.4265 - val_accuracy: 0.8112\n",
      "Epoch 9/30\n",
      "79/79 [==============================] - 0s 3ms/step - loss: 0.4577 - accuracy: 0.7909 - val_loss: 0.4215 - val_accuracy: 0.8112\n",
      "Epoch 10/30\n",
      "79/79 [==============================] - 0s 3ms/step - loss: 0.4371 - accuracy: 0.8319 - val_loss: 0.4162 - val_accuracy: 0.8112\n",
      "Epoch 11/30\n",
      "79/79 [==============================] - 0s 3ms/step - loss: 0.4124 - accuracy: 0.8092 - val_loss: 0.4138 - val_accuracy: 0.8112\n",
      "Epoch 12/30\n",
      "79/79 [==============================] - 0s 3ms/step - loss: 0.4349 - accuracy: 0.8025 - val_loss: 0.4094 - val_accuracy: 0.8163\n",
      "Epoch 13/30\n",
      "79/79 [==============================] - 0s 3ms/step - loss: 0.4162 - accuracy: 0.8232 - val_loss: 0.4086 - val_accuracy: 0.8112\n",
      "Epoch 14/30\n",
      "79/79 [==============================] - 0s 3ms/step - loss: 0.4496 - accuracy: 0.8010 - val_loss: 0.4069 - val_accuracy: 0.8163\n",
      "Epoch 15/30\n",
      "79/79 [==============================] - 0s 3ms/step - loss: 0.4294 - accuracy: 0.7990 - val_loss: 0.4043 - val_accuracy: 0.8163\n",
      "Epoch 16/30\n",
      "79/79 [==============================] - 0s 3ms/step - loss: 0.4107 - accuracy: 0.8093 - val_loss: 0.4048 - val_accuracy: 0.8163\n",
      "Epoch 17/30\n",
      "79/79 [==============================] - 0s 3ms/step - loss: 0.3944 - accuracy: 0.8273 - val_loss: 0.4033 - val_accuracy: 0.8163\n",
      "Epoch 18/30\n",
      "79/79 [==============================] - 0s 3ms/step - loss: 0.4057 - accuracy: 0.8249 - val_loss: 0.4006 - val_accuracy: 0.8163\n",
      "Epoch 19/30\n",
      "79/79 [==============================] - 0s 5ms/step - loss: 0.3724 - accuracy: 0.8478 - val_loss: 0.3985 - val_accuracy: 0.8163\n",
      "Epoch 20/30\n",
      "79/79 [==============================] - 0s 4ms/step - loss: 0.4019 - accuracy: 0.8390 - val_loss: 0.4010 - val_accuracy: 0.8163\n",
      "Epoch 21/30\n",
      "79/79 [==============================] - 0s 5ms/step - loss: 0.3960 - accuracy: 0.8255 - val_loss: 0.4004 - val_accuracy: 0.8163\n",
      "Epoch 22/30\n",
      "79/79 [==============================] - 0s 4ms/step - loss: 0.3723 - accuracy: 0.8401 - val_loss: 0.4007 - val_accuracy: 0.8163\n",
      "Epoch 23/30\n",
      "79/79 [==============================] - 0s 4ms/step - loss: 0.3870 - accuracy: 0.8367 - val_loss: 0.4006 - val_accuracy: 0.8163\n",
      "Epoch 24/30\n",
      "79/79 [==============================] - 0s 3ms/step - loss: 0.3762 - accuracy: 0.8350 - val_loss: 0.4000 - val_accuracy: 0.8163\n",
      "Epoch 25/30\n",
      "79/79 [==============================] - 0s 3ms/step - loss: 0.4162 - accuracy: 0.8063 - val_loss: 0.4025 - val_accuracy: 0.8163\n",
      "Epoch 26/30\n",
      "79/79 [==============================] - 0s 3ms/step - loss: 0.3785 - accuracy: 0.8426 - val_loss: 0.4032 - val_accuracy: 0.8163\n",
      "Epoch 27/30\n",
      "79/79 [==============================] - 0s 3ms/step - loss: 0.3575 - accuracy: 0.8553 - val_loss: 0.4015 - val_accuracy: 0.8214\n",
      "Epoch 28/30\n",
      "79/79 [==============================] - 0s 3ms/step - loss: 0.3871 - accuracy: 0.8250 - val_loss: 0.4054 - val_accuracy: 0.8214\n",
      "Epoch 29/30\n",
      "79/79 [==============================] - 0s 3ms/step - loss: 0.3584 - accuracy: 0.8492 - val_loss: 0.4023 - val_accuracy: 0.8214\n",
      "Epoch 30/30\n",
      "79/79 [==============================] - 0s 3ms/step - loss: 0.3726 - accuracy: 0.8379 - val_loss: 0.4034 - val_accuracy: 0.8214\n",
      "-----------------------TRAIN----------------------\n"
     ]
    },
    {
     "data": {
      "text/html": [
       "<div>\n",
       "<style scoped>\n",
       "    .dataframe tbody tr th:only-of-type {\n",
       "        vertical-align: middle;\n",
       "    }\n",
       "\n",
       "    .dataframe tbody tr th {\n",
       "        vertical-align: top;\n",
       "    }\n",
       "\n",
       "    .dataframe thead th {\n",
       "        text-align: right;\n",
       "    }\n",
       "</style>\n",
       "<table border=\"1\" class=\"dataframe\">\n",
       "  <thead>\n",
       "    <tr style=\"text-align: right;\">\n",
       "      <th></th>\n",
       "      <th>predicted_0</th>\n",
       "      <th>predicted_1</th>\n",
       "    </tr>\n",
       "  </thead>\n",
       "  <tbody>\n",
       "    <tr>\n",
       "      <th>actual_0</th>\n",
       "      <td>480</td>\n",
       "      <td>0</td>\n",
       "    </tr>\n",
       "    <tr>\n",
       "      <th>actual_1</th>\n",
       "      <td>157</td>\n",
       "      <td>340</td>\n",
       "    </tr>\n",
       "  </tbody>\n",
       "</table>\n",
       "</div>"
      ],
      "text/plain": [
       "          predicted_0  predicted_1\n",
       "actual_0          480            0\n",
       "actual_1          157          340"
      ]
     },
     "metadata": {},
     "output_type": "display_data"
    },
    {
     "name": "stdout",
     "output_type": "stream",
     "text": [
      "              precision    recall  f1-score   support\n",
      "\n",
      "           0       0.75      1.00      0.86       480\n",
      "           1       1.00      0.68      0.81       497\n",
      "\n",
      "    accuracy                           0.84       977\n",
      "   macro avg       0.88      0.84      0.84       977\n",
      "weighted avg       0.88      0.84      0.84       977\n",
      "\n",
      "-----------------------TEST----------------------\n"
     ]
    },
    {
     "data": {
      "text/html": [
       "<div>\n",
       "<style scoped>\n",
       "    .dataframe tbody tr th:only-of-type {\n",
       "        vertical-align: middle;\n",
       "    }\n",
       "\n",
       "    .dataframe tbody tr th {\n",
       "        vertical-align: top;\n",
       "    }\n",
       "\n",
       "    .dataframe thead th {\n",
       "        text-align: right;\n",
       "    }\n",
       "</style>\n",
       "<table border=\"1\" class=\"dataframe\">\n",
       "  <thead>\n",
       "    <tr style=\"text-align: right;\">\n",
       "      <th></th>\n",
       "      <th>predicted_0</th>\n",
       "      <th>predicted_1</th>\n",
       "    </tr>\n",
       "  </thead>\n",
       "  <tbody>\n",
       "    <tr>\n",
       "      <th>actual_0</th>\n",
       "      <td>131</td>\n",
       "      <td>0</td>\n",
       "    </tr>\n",
       "    <tr>\n",
       "      <th>actual_1</th>\n",
       "      <td>39</td>\n",
       "      <td>75</td>\n",
       "    </tr>\n",
       "  </tbody>\n",
       "</table>\n",
       "</div>"
      ],
      "text/plain": [
       "          predicted_0  predicted_1\n",
       "actual_0          131            0\n",
       "actual_1           39           75"
      ]
     },
     "metadata": {},
     "output_type": "display_data"
    },
    {
     "name": "stdout",
     "output_type": "stream",
     "text": [
      "              precision    recall  f1-score   support\n",
      "\n",
      "           0       0.77      1.00      0.87       131\n",
      "           1       1.00      0.66      0.79       114\n",
      "\n",
      "    accuracy                           0.84       245\n",
      "   macro avg       0.89      0.83      0.83       245\n",
      "weighted avg       0.88      0.84      0.83       245\n",
      "\n"
     ]
    }
   ],
   "source": [
    "history, keras_clf = run_keras(Xs_train, Xs_test, ys_train, ys_test) "
   ]
  },
  {
   "cell_type": "code",
   "execution_count": 183,
   "metadata": {},
   "outputs": [
    {
     "data": {
      "text/html": [
       "<div>\n",
       "<style scoped>\n",
       "    .dataframe tbody tr th:only-of-type {\n",
       "        vertical-align: middle;\n",
       "    }\n",
       "\n",
       "    .dataframe tbody tr th {\n",
       "        vertical-align: top;\n",
       "    }\n",
       "\n",
       "    .dataframe thead th {\n",
       "        text-align: right;\n",
       "    }\n",
       "</style>\n",
       "<table border=\"1\" class=\"dataframe\">\n",
       "  <thead>\n",
       "    <tr style=\"text-align: right;\">\n",
       "      <th></th>\n",
       "      <th>loss</th>\n",
       "      <th>accuracy</th>\n",
       "      <th>val_loss</th>\n",
       "      <th>val_accuracy</th>\n",
       "      <th>epoch</th>\n",
       "    </tr>\n",
       "  </thead>\n",
       "  <tbody>\n",
       "    <tr>\n",
       "      <th>0</th>\n",
       "      <td>0.829223</td>\n",
       "      <td>0.597951</td>\n",
       "      <td>0.660365</td>\n",
       "      <td>0.724490</td>\n",
       "      <td>1</td>\n",
       "    </tr>\n",
       "    <tr>\n",
       "      <th>1</th>\n",
       "      <td>0.685345</td>\n",
       "      <td>0.642766</td>\n",
       "      <td>0.555341</td>\n",
       "      <td>0.790816</td>\n",
       "      <td>2</td>\n",
       "    </tr>\n",
       "    <tr>\n",
       "      <th>2</th>\n",
       "      <td>0.578174</td>\n",
       "      <td>0.717029</td>\n",
       "      <td>0.508992</td>\n",
       "      <td>0.806122</td>\n",
       "      <td>3</td>\n",
       "    </tr>\n",
       "    <tr>\n",
       "      <th>3</th>\n",
       "      <td>0.537636</td>\n",
       "      <td>0.751601</td>\n",
       "      <td>0.481575</td>\n",
       "      <td>0.806122</td>\n",
       "      <td>4</td>\n",
       "    </tr>\n",
       "    <tr>\n",
       "      <th>4</th>\n",
       "      <td>0.510213</td>\n",
       "      <td>0.775928</td>\n",
       "      <td>0.462491</td>\n",
       "      <td>0.806122</td>\n",
       "      <td>5</td>\n",
       "    </tr>\n",
       "    <tr>\n",
       "      <th>5</th>\n",
       "      <td>0.509538</td>\n",
       "      <td>0.787452</td>\n",
       "      <td>0.447430</td>\n",
       "      <td>0.806122</td>\n",
       "      <td>6</td>\n",
       "    </tr>\n",
       "    <tr>\n",
       "      <th>6</th>\n",
       "      <td>0.468793</td>\n",
       "      <td>0.797695</td>\n",
       "      <td>0.437078</td>\n",
       "      <td>0.811224</td>\n",
       "      <td>7</td>\n",
       "    </tr>\n",
       "    <tr>\n",
       "      <th>7</th>\n",
       "      <td>0.468446</td>\n",
       "      <td>0.802817</td>\n",
       "      <td>0.426472</td>\n",
       "      <td>0.811224</td>\n",
       "      <td>8</td>\n",
       "    </tr>\n",
       "    <tr>\n",
       "      <th>8</th>\n",
       "      <td>0.438609</td>\n",
       "      <td>0.813060</td>\n",
       "      <td>0.421537</td>\n",
       "      <td>0.811224</td>\n",
       "      <td>9</td>\n",
       "    </tr>\n",
       "    <tr>\n",
       "      <th>9</th>\n",
       "      <td>0.434228</td>\n",
       "      <td>0.822023</td>\n",
       "      <td>0.416237</td>\n",
       "      <td>0.811224</td>\n",
       "      <td>10</td>\n",
       "    </tr>\n",
       "    <tr>\n",
       "      <th>10</th>\n",
       "      <td>0.429033</td>\n",
       "      <td>0.810499</td>\n",
       "      <td>0.413831</td>\n",
       "      <td>0.811224</td>\n",
       "      <td>11</td>\n",
       "    </tr>\n",
       "    <tr>\n",
       "      <th>11</th>\n",
       "      <td>0.424272</td>\n",
       "      <td>0.811780</td>\n",
       "      <td>0.409435</td>\n",
       "      <td>0.816327</td>\n",
       "      <td>12</td>\n",
       "    </tr>\n",
       "    <tr>\n",
       "      <th>12</th>\n",
       "      <td>0.421201</td>\n",
       "      <td>0.816901</td>\n",
       "      <td>0.408574</td>\n",
       "      <td>0.811224</td>\n",
       "      <td>13</td>\n",
       "    </tr>\n",
       "    <tr>\n",
       "      <th>13</th>\n",
       "      <td>0.423045</td>\n",
       "      <td>0.819462</td>\n",
       "      <td>0.406902</td>\n",
       "      <td>0.816327</td>\n",
       "      <td>14</td>\n",
       "    </tr>\n",
       "    <tr>\n",
       "      <th>14</th>\n",
       "      <td>0.399492</td>\n",
       "      <td>0.824584</td>\n",
       "      <td>0.404309</td>\n",
       "      <td>0.816327</td>\n",
       "      <td>15</td>\n",
       "    </tr>\n",
       "    <tr>\n",
       "      <th>15</th>\n",
       "      <td>0.398941</td>\n",
       "      <td>0.828425</td>\n",
       "      <td>0.404787</td>\n",
       "      <td>0.816327</td>\n",
       "      <td>16</td>\n",
       "    </tr>\n",
       "    <tr>\n",
       "      <th>16</th>\n",
       "      <td>0.404568</td>\n",
       "      <td>0.822023</td>\n",
       "      <td>0.403279</td>\n",
       "      <td>0.816327</td>\n",
       "      <td>17</td>\n",
       "    </tr>\n",
       "    <tr>\n",
       "      <th>17</th>\n",
       "      <td>0.404459</td>\n",
       "      <td>0.830986</td>\n",
       "      <td>0.400633</td>\n",
       "      <td>0.816327</td>\n",
       "      <td>18</td>\n",
       "    </tr>\n",
       "    <tr>\n",
       "      <th>18</th>\n",
       "      <td>0.396594</td>\n",
       "      <td>0.828425</td>\n",
       "      <td>0.398473</td>\n",
       "      <td>0.816327</td>\n",
       "      <td>19</td>\n",
       "    </tr>\n",
       "    <tr>\n",
       "      <th>19</th>\n",
       "      <td>0.392047</td>\n",
       "      <td>0.834827</td>\n",
       "      <td>0.401039</td>\n",
       "      <td>0.816327</td>\n",
       "      <td>20</td>\n",
       "    </tr>\n",
       "    <tr>\n",
       "      <th>20</th>\n",
       "      <td>0.389616</td>\n",
       "      <td>0.833547</td>\n",
       "      <td>0.400422</td>\n",
       "      <td>0.816327</td>\n",
       "      <td>21</td>\n",
       "    </tr>\n",
       "    <tr>\n",
       "      <th>21</th>\n",
       "      <td>0.385022</td>\n",
       "      <td>0.828425</td>\n",
       "      <td>0.400653</td>\n",
       "      <td>0.816327</td>\n",
       "      <td>22</td>\n",
       "    </tr>\n",
       "    <tr>\n",
       "      <th>22</th>\n",
       "      <td>0.383698</td>\n",
       "      <td>0.839949</td>\n",
       "      <td>0.400606</td>\n",
       "      <td>0.816327</td>\n",
       "      <td>23</td>\n",
       "    </tr>\n",
       "    <tr>\n",
       "      <th>23</th>\n",
       "      <td>0.386776</td>\n",
       "      <td>0.827145</td>\n",
       "      <td>0.400025</td>\n",
       "      <td>0.816327</td>\n",
       "      <td>24</td>\n",
       "    </tr>\n",
       "    <tr>\n",
       "      <th>24</th>\n",
       "      <td>0.383263</td>\n",
       "      <td>0.833547</td>\n",
       "      <td>0.402483</td>\n",
       "      <td>0.816327</td>\n",
       "      <td>25</td>\n",
       "    </tr>\n",
       "    <tr>\n",
       "      <th>25</th>\n",
       "      <td>0.382713</td>\n",
       "      <td>0.836108</td>\n",
       "      <td>0.403248</td>\n",
       "      <td>0.816327</td>\n",
       "      <td>26</td>\n",
       "    </tr>\n",
       "    <tr>\n",
       "      <th>26</th>\n",
       "      <td>0.372852</td>\n",
       "      <td>0.839949</td>\n",
       "      <td>0.401512</td>\n",
       "      <td>0.821429</td>\n",
       "      <td>27</td>\n",
       "    </tr>\n",
       "    <tr>\n",
       "      <th>27</th>\n",
       "      <td>0.376127</td>\n",
       "      <td>0.837388</td>\n",
       "      <td>0.405445</td>\n",
       "      <td>0.821429</td>\n",
       "      <td>28</td>\n",
       "    </tr>\n",
       "    <tr>\n",
       "      <th>28</th>\n",
       "      <td>0.374924</td>\n",
       "      <td>0.833547</td>\n",
       "      <td>0.402326</td>\n",
       "      <td>0.821429</td>\n",
       "      <td>29</td>\n",
       "    </tr>\n",
       "    <tr>\n",
       "      <th>29</th>\n",
       "      <td>0.374728</td>\n",
       "      <td>0.837388</td>\n",
       "      <td>0.403370</td>\n",
       "      <td>0.821429</td>\n",
       "      <td>30</td>\n",
       "    </tr>\n",
       "  </tbody>\n",
       "</table>\n",
       "</div>"
      ],
      "text/plain": [
       "        loss  accuracy  val_loss  val_accuracy  epoch\n",
       "0   0.829223  0.597951  0.660365      0.724490      1\n",
       "1   0.685345  0.642766  0.555341      0.790816      2\n",
       "2   0.578174  0.717029  0.508992      0.806122      3\n",
       "3   0.537636  0.751601  0.481575      0.806122      4\n",
       "4   0.510213  0.775928  0.462491      0.806122      5\n",
       "5   0.509538  0.787452  0.447430      0.806122      6\n",
       "6   0.468793  0.797695  0.437078      0.811224      7\n",
       "7   0.468446  0.802817  0.426472      0.811224      8\n",
       "8   0.438609  0.813060  0.421537      0.811224      9\n",
       "9   0.434228  0.822023  0.416237      0.811224     10\n",
       "10  0.429033  0.810499  0.413831      0.811224     11\n",
       "11  0.424272  0.811780  0.409435      0.816327     12\n",
       "12  0.421201  0.816901  0.408574      0.811224     13\n",
       "13  0.423045  0.819462  0.406902      0.816327     14\n",
       "14  0.399492  0.824584  0.404309      0.816327     15\n",
       "15  0.398941  0.828425  0.404787      0.816327     16\n",
       "16  0.404568  0.822023  0.403279      0.816327     17\n",
       "17  0.404459  0.830986  0.400633      0.816327     18\n",
       "18  0.396594  0.828425  0.398473      0.816327     19\n",
       "19  0.392047  0.834827  0.401039      0.816327     20\n",
       "20  0.389616  0.833547  0.400422      0.816327     21\n",
       "21  0.385022  0.828425  0.400653      0.816327     22\n",
       "22  0.383698  0.839949  0.400606      0.816327     23\n",
       "23  0.386776  0.827145  0.400025      0.816327     24\n",
       "24  0.383263  0.833547  0.402483      0.816327     25\n",
       "25  0.382713  0.836108  0.403248      0.816327     26\n",
       "26  0.372852  0.839949  0.401512      0.821429     27\n",
       "27  0.376127  0.837388  0.405445      0.821429     28\n",
       "28  0.374924  0.833547  0.402326      0.821429     29\n",
       "29  0.374728  0.837388  0.403370      0.821429     30"
      ]
     },
     "execution_count": 183,
     "metadata": {},
     "output_type": "execute_result"
    }
   ],
   "source": [
    "hist = pd.DataFrame(history)\n",
    "hist['epoch'] = hist.index+1\n",
    "hist\n"
   ]
  },
  {
   "cell_type": "code",
   "execution_count": 197,
   "metadata": {},
   "outputs": [
    {
     "data": {
      "image/png": "[encoded data removed]",
      "text/plain": [
       "<Figure size 432x288 with 1 Axes>"
      ]
     },
     "metadata": {
      "needs_background": "light"
     },
     "output_type": "display_data"
    }
   ],
   "source": [
    "# Plot training & validation accuracy values\n",
    "plt.plot(history['accuracy'], label = 'Training')\n",
    "plt.plot(history['val_accuracy'], label = 'Validation')\n",
    "plt.title('Model accuracy')\n",
    "plt.ylabel('Accuracy')\n",
    "plt.xlabel('Epoch')\n",
    "plt.legend()\n",
    "plt.show()"
   ]
  },
  {
   "cell_type": "code",
   "execution_count": 198,
   "metadata": {},
   "outputs": [
    {
     "data": {
      "image/png": "[encoded data removed]",
      "text/plain": [
       "<Figure size 432x288 with 1 Axes>"
      ]
     },
     "metadata": {
      "needs_background": "light"
     },
     "output_type": "display_data"
    }
   ],
   "source": [
    "# Plot training & validation loss values\n",
    "plt.plot(history['loss'], label = 'Training')\n",
    "plt.plot(history['val_loss'], label = 'Validation')\n",
    "plt.title('Model loss')\n",
    "plt.ylabel('Loss')\n",
    "plt.xlabel('Epoch')\n",
    "plt.legend()\n",
    "plt.show()"
   ]
  },
  {
   "cell_type": "markdown",
   "metadata": {},
   "source": [
    "### HYPERPARAMETERS TUNING<a id=\"hypertuning\"></a>\n",
    "[Back to top](#top7)"
   ]
  },
  {
   "cell_type": "code",
   "execution_count": 33,
   "metadata": {},
   "outputs": [
    {
     "name": "stdout",
     "output_type": "stream",
     "text": [
      "Fitting 5 folds for each of 100 candidates, totalling 500 fits\n"
     ]
    },
    {
     "name": "stderr",
     "output_type": "stream",
     "text": [
      "[Parallel(n_jobs=1)]: Using backend SequentialBackend with 1 concurrent workers.\n",
      "[Parallel(n_jobs=1)]: Done 500 out of 500 | elapsed:    1.6s finished\n"
     ]
    },
    {
     "data": {
      "text/plain": [
       "{'var_smoothing': 1e-05}"
      ]
     },
     "execution_count": 33,
     "metadata": {},
     "output_type": "execute_result"
    }
   ],
   "source": [
    "# TUNING GAUSSIAN NAIVE BAYES \n",
    "\n",
    "NB_clf = GaussianNB()\n",
    "\n",
    "params_NB = {'var_smoothing': np.logspace(0,-9, num=100)}\n",
    "\n",
    "gs_NB = GridSearchCV(estimator=NB_clf, \n",
    "                 param_grid=params_NB, \n",
    "                 cv=5,   # use any cross validation technique \n",
    "                 verbose=1, \n",
    "                 scoring='precision') \n",
    "gs_NB.fit(Xs_train_sm,ys_train_sm)\n",
    "\n",
    "gs_NB.best_params_"
   ]
  },
  {
   "cell_type": "code",
   "execution_count": 54,
   "metadata": {},
   "outputs": [
    {
     "name": "stdout",
     "output_type": "stream",
     "text": [
      "Fitting 5 folds for each of 150 candidates, totalling 750 fits\n"
     ]
    },
    {
     "name": "stderr",
     "output_type": "stream",
     "text": [
      "[Parallel(n_jobs=-1)]: Using backend LokyBackend with 4 concurrent workers.\n",
      "[Parallel(n_jobs=-1)]: Done  33 tasks      | elapsed:    9.9s\n",
      "[Parallel(n_jobs=-1)]: Done 154 tasks      | elapsed:  1.8min\n",
      "[Parallel(n_jobs=-1)]: Done 357 tasks      | elapsed:  4.4min\n",
      "[Parallel(n_jobs=-1)]: Done 640 tasks      | elapsed:  8.8min\n",
      "[Parallel(n_jobs=-1)]: Done 750 out of 750 | elapsed: 10.3min finished\n"
     ]
    },
    {
     "data": {
      "text/plain": [
       "{'learning_rate': 0.01, 'max_depth': 7, 'n_estimators': 500}"
      ]
     },
     "execution_count": 54,
     "metadata": {},
     "output_type": "execute_result"
    }
   ],
   "source": [
    "# TUNING GRADIENT BOOSTING\n",
    "\n",
    "param_grid = {\n",
    "    \"n_estimators\":[5,50,100,250,500,600],\n",
    "    \"max_depth\":[1,3,5,7,9],\n",
    "    \"learning_rate\":[0.01,0.1,1,10,100]\n",
    "}\n",
    "\n",
    "# Create a based model\n",
    "gb = GradientBoostingClassifier()\n",
    "\n",
    "# Instantiate the grid search model\n",
    "grid_search = GridSearchCV(estimator = gb, param_grid = param_grid,cv = 5, n_jobs = -1, verbose = 2, scoring='precision')\n",
    "grid_search.fit(Xs_train_sm,ys_train_sm)\n",
    "grid_search.best_params_"
   ]
  },
  {
   "cell_type": "code",
   "execution_count": 251,
   "metadata": {},
   "outputs": [
    {
     "name": "stdout",
     "output_type": "stream",
     "text": [
      "Fitting 5 folds for each of 30 candidates, totalling 150 fits\n"
     ]
    },
    {
     "name": "stderr",
     "output_type": "stream",
     "text": [
      "[Parallel(n_jobs=-1)]: Using backend LokyBackend with 4 concurrent workers.\n",
      "[Parallel(n_jobs=-1)]: Done 100 tasks      | elapsed:    0.9s\n",
      "[Parallel(n_jobs=-1)]: Done 150 out of 150 | elapsed:    1.0s finished\n"
     ]
    },
    {
     "data": {
      "text/plain": [
       "{'C': 0.01, 'penalty': 'l2', 'solver': 'newton-cg'}"
      ]
     },
     "execution_count": 251,
     "metadata": {},
     "output_type": "execute_result"
    }
   ],
   "source": [
    "# TUNING LOGISTIC REGRESSION\n",
    "\n",
    "param_grid = {'penalty' : ['l1', 'l2'],\n",
    "                'C' : [100, 10, 1.0, 0.1, 0.01],\n",
    "                'solver' : ['newton-cg', 'lbfgs', 'liblinear']}\n",
    "\n",
    "\n",
    "# Create a based model\n",
    "lr = LogisticRegression()\n",
    "\n",
    "kfold = KFold(n_splits=5, shuffle=True, random_state=42)\n",
    "\n",
    "# Instantiate the grid search model\n",
    "grid_search = GridSearchCV(estimator = lr, param_grid = param_grid,cv = kfold, n_jobs = -1, verbose = 2, scoring='precision')\n",
    "grid_result = grid_search.fit(Xs_train,ys_train)\n",
    "grid_search.best_params_"
   ]
  },
  {
   "cell_type": "code",
   "execution_count": 89,
   "metadata": {},
   "outputs": [
    {
     "name": "stdout",
     "output_type": "stream",
     "text": [
      "Fitting 5 folds for each of 500 candidates, totalling 2500 fits\n"
     ]
    },
    {
     "name": "stderr",
     "output_type": "stream",
     "text": [
      "[Parallel(n_jobs=-1)]: Using backend LokyBackend with 4 concurrent workers.\n",
      "[Parallel(n_jobs=-1)]: Done  42 tasks      | elapsed:  1.8min\n",
      "[Parallel(n_jobs=-1)]: Done 192 tasks      | elapsed:  5.7min\n",
      "[Parallel(n_jobs=-1)]: Done 442 tasks      | elapsed:  9.4min\n",
      "[Parallel(n_jobs=-1)]: Done 792 tasks      | elapsed: 15.0min\n",
      "[Parallel(n_jobs=-1)]: Done 1242 tasks      | elapsed: 24.4min\n",
      "[Parallel(n_jobs=-1)]: Done 1792 tasks      | elapsed: 35.8min\n",
      "[Parallel(n_jobs=-1)]: Done 2442 tasks      | elapsed: 48.8min\n",
      "[Parallel(n_jobs=-1)]: Done 2500 out of 2500 | elapsed: 50.0min finished\n"
     ]
    },
    {
     "data": {
      "text/plain": [
       "{'max_depth': 30,\n",
       " 'min_samples_leaf': 1,\n",
       " 'min_samples_split': 2,\n",
       " 'n_estimators': 800}"
      ]
     },
     "execution_count": 89,
     "metadata": {},
     "output_type": "execute_result"
    }
   ],
   "source": [
    "# TUNING RANDOMFOREST SCORING RECALL\n",
    "\n",
    "param_grid = {\n",
    "    'max_depth': [5, 8, 15, 25, 30],\n",
    "    'min_samples_leaf': [1, 2, 5, 10] ,\n",
    "    'min_samples_split': [2, 5, 10, 15, 100],\n",
    "    'n_estimators': [100, 300, 500, 800, 1200]\n",
    "}\n",
    "\n",
    "# Create a based model\n",
    "RF = RandomForestClassifier()\n",
    "\n",
    "# Instantiate the grid search model\n",
    "grid_search = GridSearchCV(estimator = RF, param_grid = param_grid,cv = 5, n_jobs = -1, verbose = 1, scoring='recall')\n",
    "grid_search.fit(Xs_train,ys_train)\n",
    "grid_search.best_params_"
   ]
  },
  {
   "cell_type": "code",
   "execution_count": 131,
   "metadata": {},
   "outputs": [
    {
     "name": "stdout",
     "output_type": "stream",
     "text": [
      "Fitting 5 folds for each of 500 candidates, totalling 2500 fits\n"
     ]
    },
    {
     "name": "stderr",
     "output_type": "stream",
     "text": [
      "[Parallel(n_jobs=-1)]: Using backend LokyBackend with 4 concurrent workers.\n",
      "[Parallel(n_jobs=-1)]: Done  42 tasks      | elapsed:   32.5s\n",
      "[Parallel(n_jobs=-1)]: Done 192 tasks      | elapsed:  2.3min\n",
      "[Parallel(n_jobs=-1)]: Done 442 tasks      | elapsed:  5.3min\n",
      "[Parallel(n_jobs=-1)]: Done 792 tasks      | elapsed: 10.8min\n",
      "[Parallel(n_jobs=-1)]: Done 1242 tasks      | elapsed: 16.9min\n",
      "[Parallel(n_jobs=-1)]: Done 1792 tasks      | elapsed: 24.9min\n",
      "[Parallel(n_jobs=-1)]: Done 2442 tasks      | elapsed: 35.7min\n",
      "[Parallel(n_jobs=-1)]: Done 2500 out of 2500 | elapsed: 36.6min finished\n"
     ]
    },
    {
     "data": {
      "text/plain": [
       "{'max_depth': 30,\n",
       " 'min_samples_leaf': 1,\n",
       " 'min_samples_split': 2,\n",
       " 'n_estimators': 1200}"
      ]
     },
     "execution_count": 131,
     "metadata": {},
     "output_type": "execute_result"
    }
   ],
   "source": [
    "# TUNING RANDOMFOREST SCORING RECALL\n",
    "\n",
    "param_grid = {\n",
    "    'max_depth': [5, 8, 15, 25, 30],\n",
    "    'min_samples_leaf': [1, 2, 5, 10] ,\n",
    "    'min_samples_split': [2, 5, 10, 15, 100],\n",
    "    'n_estimators': [100, 300, 500, 800, 1200]\n",
    "}\n",
    "\n",
    "# Create a based model\n",
    "RF = RandomForestClassifier()\n",
    "\n",
    "# Instantiate the grid search model\n",
    "grid_search = GridSearchCV(estimator = RF, param_grid = param_grid,cv = 5, n_jobs = -1, verbose = 1, scoring='recall')\n",
    "grid_search.fit(Xs_train,ys_train)\n",
    "grid_search.best_params_"
   ]
  },
  {
   "cell_type": "code",
   "execution_count": 206,
   "metadata": {},
   "outputs": [
    {
     "name": "stdout",
     "output_type": "stream",
     "text": [
      "Fitting 3 folds for each of 9000 candidates, totalling 27000 fits\n"
     ]
    },
    {
     "name": "stderr",
     "output_type": "stream",
     "text": [
      "[Parallel(n_jobs=-1)]: Using backend LokyBackend with 4 concurrent workers.\n",
      "[Parallel(n_jobs=-1)]: Done  33 tasks      | elapsed:   11.9s\n",
      "[Parallel(n_jobs=-1)]: Done 154 tasks      | elapsed:   33.7s\n",
      "[Parallel(n_jobs=-1)]: Done 357 tasks      | elapsed:  1.6min\n",
      "[Parallel(n_jobs=-1)]: Done 640 tasks      | elapsed:  2.5min\n",
      "[Parallel(n_jobs=-1)]: Done 1005 tasks      | elapsed:  3.9min\n",
      "[Parallel(n_jobs=-1)]: Done 1450 tasks      | elapsed:  5.5min\n",
      "[Parallel(n_jobs=-1)]: Done 1977 tasks      | elapsed:  7.1min\n",
      "[Parallel(n_jobs=-1)]: Done 2584 tasks      | elapsed:  9.3min\n",
      "[Parallel(n_jobs=-1)]: Done 3273 tasks      | elapsed: 12.3min\n",
      "[Parallel(n_jobs=-1)]: Done 4042 tasks      | elapsed: 15.7min\n",
      "[Parallel(n_jobs=-1)]: Done 4893 tasks      | elapsed: 19.3min\n",
      "[Parallel(n_jobs=-1)]: Done 5824 tasks      | elapsed: 23.3min\n",
      "[Parallel(n_jobs=-1)]: Done 6837 tasks      | elapsed: 27.9min\n",
      "[Parallel(n_jobs=-1)]: Done 7930 tasks      | elapsed: 32.7min\n",
      "[Parallel(n_jobs=-1)]: Done 9105 tasks      | elapsed: 38.0min\n",
      "[Parallel(n_jobs=-1)]: Done 10360 tasks      | elapsed: 43.4min\n",
      "[Parallel(n_jobs=-1)]: Done 11697 tasks      | elapsed: 49.0min\n",
      "[Parallel(n_jobs=-1)]: Done 13114 tasks      | elapsed: 160.1min\n",
      "[Parallel(n_jobs=-1)]: Done 14613 tasks      | elapsed: 166.0min\n",
      "[Parallel(n_jobs=-1)]: Done 16192 tasks      | elapsed: 173.4min\n",
      "[Parallel(n_jobs=-1)]: Done 17853 tasks      | elapsed: 179.8min\n",
      "[Parallel(n_jobs=-1)]: Done 19594 tasks      | elapsed: 187.8min\n",
      "[Parallel(n_jobs=-1)]: Done 21417 tasks      | elapsed: 208.9min\n",
      "[Parallel(n_jobs=-1)]: Done 23320 tasks      | elapsed: 223.4min\n",
      "[Parallel(n_jobs=-1)]: Done 25305 tasks      | elapsed: 239.3min\n",
      "[Parallel(n_jobs=-1)]: Done 27000 out of 27000 | elapsed: 253.9min finished\n",
      "/Users/chautran/opt/anaconda3/lib/python3.8/site-packages/xgboost/sklearn.py:892: UserWarning: The use of label encoder in XGBClassifier is deprecated and will be removed in a future release. To remove this warning, do the following: 1) Pass option use_label_encoder=False when constructing XGBClassifier object; and 2) Encode your labels (y) as integers starting with 0, i.e. 0, 1, 2, ..., [num_class - 1].\n",
      "  warnings.warn(label_encoder_deprecation_msg, UserWarning)\n"
     ]
    },
    {
     "name": "stdout",
     "output_type": "stream",
     "text": [
      "[19:07:13] WARNING: /Users/travis/build/dmlc/xgboost/src/learner.cc:1061: Starting in XGBoost 1.3.0, the default evaluation metric used with the objective 'binary:logistic' was changed from 'error' to 'logloss'. Explicitly set eval_metric if you'd like to restore the old behavior.\n"
     ]
    },
    {
     "data": {
      "text/plain": [
       "{'colsample_bytree': 0.6,\n",
       " 'gamma': 0.1,\n",
       " 'learning_rate': 0.1,\n",
       " 'max_depth': 5,\n",
       " 'min_child_weight': 1,\n",
       " 'n_estimators': 100,\n",
       " 'subsample': 0.8}"
      ]
     },
     "execution_count": 206,
     "metadata": {},
     "output_type": "execute_result"
    }
   ],
   "source": [
    "# TUNING XBG \n",
    "\n",
    "xgb_cfl = xgb.XGBClassifier(n_jobs = -1)\n",
    "\n",
    "# A parameter grid for XGBoost\n",
    "param_grid = {\n",
    "        'n_estimators' : [100, 200],\n",
    "        'learning_rate' : [0.01, 0.02, 0.05, 0.1, 0.25],\n",
    "        'min_child_weight': [1, 5, 7, 10],\n",
    "        'gamma': [0.1, 0.5, 1, 1.5, 5],\n",
    "        'subsample': [0.6, 0.8, 1.0],\n",
    "        'colsample_bytree': [0.6, 0.8, 1.0],\n",
    "        'max_depth': [3, 4, 5, 10, 12]\n",
    "        }\n",
    "grid_search = GridSearchCV(estimator = xgb_cfl, param_grid = param_grid,cv = 3, n_jobs = -1, verbose = 2)\n",
    "grid_search.fit(Xs_train,ys_train)\n",
    "grid_search.best_params_"
   ]
  },
  {
   "cell_type": "code",
   "execution_count": null,
   "metadata": {},
   "outputs": [],
   "source": []
  },
  {
   "cell_type": "code",
   "execution_count": 248,
   "metadata": {},
   "outputs": [
    {
     "name": "stdout",
     "output_type": "stream",
     "text": [
      "Fitting 5 folds for each of 100 candidates, totalling 500 fits\n"
     ]
    },
    {
     "name": "stderr",
     "output_type": "stream",
     "text": [
      "[Parallel(n_jobs=-1)]: Using backend LokyBackend with 4 concurrent workers.\n",
      "[Parallel(n_jobs=-1)]: Done  33 tasks      | elapsed:    4.3s\n",
      "[Parallel(n_jobs=-1)]: Done 154 tasks      | elapsed:   28.0s\n",
      "[Parallel(n_jobs=-1)]: Done 357 tasks      | elapsed:   60.0s\n",
      "[Parallel(n_jobs=-1)]: Done 500 out of 500 | elapsed:  1.4min finished\n"
     ]
    },
    {
     "data": {
      "text/plain": [
       "{'base_estimator': None, 'learning_rate': 1, 'n_estimators': 200}"
      ]
     },
     "execution_count": 248,
     "metadata": {},
     "output_type": "execute_result"
    }
   ],
   "source": [
    "# TUNING AdaBoost \n",
    "\n",
    "AdB_cfl = AdaBoostClassifier()\n",
    "\n",
    "\n",
    "param_grid =  {\n",
    "            'n_estimators' : [50, 80, 100, 150, 200],\n",
    "            'learning_rate': [.2, .5, 1, 2, 3],\n",
    "#           'loss': ['linear', 'square', 'exponential'],\n",
    "            'base_estimator': [None, DecisionTreeClassifier(max_depth=2),\n",
    "                                    DecisionTreeClassifier(max_depth=4),\n",
    "                                    DecisionTreeClassifier(max_depth=5)]\n",
    "            }\n",
    "kfold = KFold(n_splits=5, shuffle=True, random_state=42)\n",
    "\n",
    "grid_search = GridSearchCV(estimator = AdB_cfl, param_grid = param_grid,cv = kfold, n_jobs = -1, verbose = 2, scoring='precision')\n",
    "grid_search.fit(Xs_train,ys_train)\n",
    "grid_search.best_params_            "
   ]
  },
  {
   "cell_type": "code",
   "execution_count": 147,
   "metadata": {},
   "outputs": [
    {
     "name": "stdout",
     "output_type": "stream",
     "text": [
      "Fitting 5 folds for each of 100 candidates, totalling 500 fits\n"
     ]
    },
    {
     "name": "stderr",
     "output_type": "stream",
     "text": [
      "[Parallel(n_jobs=-1)]: Using backend LokyBackend with 4 concurrent workers.\n",
      "[Parallel(n_jobs=-1)]: Done  33 tasks      | elapsed:    9.9s\n",
      "[Parallel(n_jobs=-1)]: Done 154 tasks      | elapsed:   29.3s\n",
      "[Parallel(n_jobs=-1)]: Done 357 tasks      | elapsed:  1.2min\n",
      "[Parallel(n_jobs=-1)]: Done 500 out of 500 | elapsed:  1.7min finished\n"
     ]
    },
    {
     "data": {
      "text/plain": [
       "{'base_estimator': DecisionTreeClassifier(max_depth=4),\n",
       " 'learning_rate': 3,\n",
       " 'n_estimators': 150}"
      ]
     },
     "execution_count": 147,
     "metadata": {},
     "output_type": "execute_result"
    }
   ],
   "source": [
    "# TUNING AdaBoost \n",
    "\n",
    "AdB_cfl = AdaBoostClassifier()\n",
    "\n",
    "\n",
    "param_grid =  {\n",
    "            'n_estimators' : [50, 80, 100, 150, 200],\n",
    "            'learning_rate': [.2, .5, 1, 2, 3],\n",
    "#           'loss': ['linear', 'square', 'exponential'],\n",
    "            'base_estimator': [None, DecisionTreeClassifier(max_depth=2),\n",
    "                                    DecisionTreeClassifier(max_depth=4),\n",
    "                                    DecisionTreeClassifier(max_depth=5)]\n",
    "            }\n",
    "kfold = KFold(n_splits=5, shuffle=True, random_state=42)\n",
    "\n",
    "grid_search = GridSearchCV(estimator = AdB_cfl, param_grid = param_grid,cv = kfold, n_jobs = -1, verbose = 2, scoring='recall')\n",
    "grid_search.fit(Xs_train,ys_train)\n",
    "grid_search.best_params_            "
   ]
  },
  {
   "cell_type": "markdown",
   "metadata": {},
   "source": [
    "### FEATURE IMPORTANCE ON BEST MODELS <a id=\"featureImportance\"></a>\n",
    "[Back to top](#top7)"
   ]
  },
  {
   "cell_type": "code",
   "execution_count": 204,
   "metadata": {},
   "outputs": [
    {
     "name": "stdout",
     "output_type": "stream",
     "text": [
      "Accuracy is:  0.82\n",
      "F1 score is:  0.8\n",
      "Ave PR score:  0.89\n",
      "              precision    recall  f1-score   support\n",
      "\n",
      "           0       0.81      0.86      0.84       131\n",
      "           1       0.83      0.77      0.80       114\n",
      "\n",
      "    accuracy                           0.82       245\n",
      "   macro avg       0.82      0.82      0.82       245\n",
      "weighted avg       0.82      0.82      0.82       245\n",
      "\n"
     ]
    },
    {
     "data": {
      "image/png": "[encoded data removed]",
      "text/plain": [
       "<Figure size 432x288 with 2 Axes>"
      ]
     },
     "metadata": {
      "needs_background": "light"
     },
     "output_type": "display_data"
    },
    {
     "data": {
      "image/png": "[encoded data removed]",
      "text/plain": [
       "<Figure size 432x288 with 1 Axes>"
      ]
     },
     "metadata": {
      "needs_background": "light"
     },
     "output_type": "display_data"
    },
    {
     "data": {
      "image/png": "[encoded data removed]",
      "text/plain": [
       "<Figure size 432x288 with 1 Axes>"
      ]
     },
     "metadata": {
      "needs_background": "light"
     },
     "output_type": "display_data"
    }
   ],
   "source": [
    "RF_clf = RandomForestClassifier(max_depth=30,\n",
    "                                         min_samples_leaf=1,\n",
    "                                         min_samples_split=2,\n",
    "                                         n_estimators=1200)\n",
    "    \n",
    "RF_clf.fit(Xs_train,ys_train)\n",
    "y_pred = RF_clf.predict(Xs_test)\n",
    "display_scores(RF_clf, Xs_test, ys_test, y_pred)"
   ]
  },
  {
   "cell_type": "code",
   "execution_count": 205,
   "metadata": {},
   "outputs": [
    {
     "name": "stdout",
     "output_type": "stream",
     "text": [
      "                       feature     score\n",
      "0            segment_Champions  0.047226\n",
      "15    homeowner_desc_Homeowner  0.042382\n",
      "30          income_desc_35-49K  0.037640\n",
      "5               age_desc_25-34  0.035283\n",
      "13  hh_comp_desc_Single Female  0.032399\n",
      "31          income_desc_50-74K  0.031493\n",
      "6               age_desc_35-44  0.028742\n",
      "32          income_desc_75-99K  0.027482\n",
      "34       marital_status_code_A  0.024558\n",
      "8               age_desc_55-64  0.023619\n"
     ]
    },
    {
     "data": {
      "image/png": "[encoded data removed]",
      "text/plain": [
       "<Figure size 288x360 with 1 Axes>"
      ]
     },
     "metadata": {
      "needs_background": "light"
     },
     "output_type": "display_data"
    }
   ],
   "source": [
    "# calculate feature importance\n",
    "\n",
    "per_imp = permutation_importance(RF_clf, Xs_train,ys_train, scoring='precision')\n",
    "importances = per_imp.importances_mean\n",
    "    \n",
    "imp_dict = dict(zip(X.columns, importances))\n",
    "score_df = pd.DataFrame(imp_dict.items(), columns=['feature', 'score'])\n",
    "score_df = score_df.sort_values('score',ascending=False)\n",
    "print(score_df.head(10))\n",
    "\n",
    "# plot the scores\n",
    "fig = plt.figure(figsize=(4,5))\n",
    "score_df = score_df.sort_values('score',ascending=False).head(10).sort_values('score',ascending=True)\n",
    "plt.barh(score_df.feature, score_df.score)\n",
    "plt.xticks(rotation=90)\n",
    "plt.show()\n"
   ]
  },
  {
   "cell_type": "code",
   "execution_count": 122,
   "metadata": {
    "collapsed": true,
    "jupyter": {
     "outputs_hidden": true
    }
   },
   "outputs": [
    {
     "name": "stderr",
     "output_type": "stream",
     "text": [
      "/Users/chautran/opt/anaconda3/lib/python3.8/site-packages/xgboost/sklearn.py:892: UserWarning: The use of label encoder in XGBClassifier is deprecated and will be removed in a future release. To remove this warning, do the following: 1) Pass option use_label_encoder=False when constructing XGBClassifier object; and 2) Encode your labels (y) as integers starting with 0, i.e. 0, 1, 2, ..., [num_class - 1].\n",
      "  warnings.warn(label_encoder_deprecation_msg, UserWarning)\n"
     ]
    },
    {
     "name": "stdout",
     "output_type": "stream",
     "text": [
      "[11:33:10] WARNING: /Users/travis/build/dmlc/xgboost/src/learner.cc:1061: Starting in XGBoost 1.3.0, the default evaluation metric used with the objective 'binary:logistic' was changed from 'error' to 'logloss'. Explicitly set eval_metric if you'd like to restore the old behavior.\n",
      "Accuracy is:  0.82\n",
      "F1 score is:  0.8\n",
      "Ave PR score:  0.92\n",
      "              precision    recall  f1-score   support\n",
      "\n",
      "           0       0.82      0.85      0.84       131\n",
      "           1       0.82      0.78      0.80       114\n",
      "\n",
      "    accuracy                           0.82       245\n",
      "   macro avg       0.82      0.82      0.82       245\n",
      "weighted avg       0.82      0.82      0.82       245\n",
      "\n"
     ]
    },
    {
     "data": {
      "image/png": "[encoded data removed]",
      "text/plain": [
       "<Figure size 432x288 with 2 Axes>"
      ]
     },
     "metadata": {
      "needs_background": "light"
     },
     "output_type": "display_data"
    },
    {
     "data": {
      "image/png": "[encoded data removed]",
      "text/plain": [
       "<Figure size 432x288 with 1 Axes>"
      ]
     },
     "metadata": {
      "needs_background": "light"
     },
     "output_type": "display_data"
    },
    {
     "data": {
      "image/png": "[encoded data removed]",
      "text/plain": [
       "<Figure size 432x288 with 1 Axes>"
      ]
     },
     "metadata": {
      "needs_background": "light"
     },
     "output_type": "display_data"
    }
   ],
   "source": [
    "XGB_clf = xgb.XGBClassifier(colsample_bytree=0.6,\n",
    "                             gamma=0.5,\n",
    "                             learning_rate= 0.02,\n",
    "                             max_depth=10,\n",
    "                             min_child_weight=1,\n",
    "                             n_estimators=200,\n",
    "                             subsample=0.8)\n",
    "\n",
    "XGB_clf.fit(Xs_train,ys_train)\n",
    "y_pred = XGB_clf.predict(Xs_test)\n",
    "display_scores(XGB_clf, Xs_test, ys_test, y_pred)"
   ]
  },
  {
   "cell_type": "code",
   "execution_count": 119,
   "metadata": {
    "collapsed": true,
    "jupyter": {
     "outputs_hidden": true
    }
   },
   "outputs": [
    {
     "name": "stdout",
     "output_type": "stream",
     "text": [
      "                     feature     score\n",
      "35    total_coupons_received  0.121529\n",
      "30        income_desc_35-49K  0.036217\n",
      "6             age_desc_35-44  0.028169\n",
      "5             age_desc_25-34  0.017706\n",
      "14  hh_comp_desc_Single Male  0.016097\n",
      "15  homeowner_desc_Homeowner  0.015694\n",
      "17     household_size_desc_1  0.012072\n",
      "34     marital_status_code_A  0.007646\n",
      "2     segment_Need attention  0.007243\n",
      "7             age_desc_45-54  0.006439\n"
     ]
    },
    {
     "data": {
      "image/png": "[encoded data removed]",
      "text/plain": [
       "<Figure size 288x360 with 1 Axes>"
      ]
     },
     "metadata": {
      "needs_background": "light"
     },
     "output_type": "display_data"
    }
   ],
   "source": [
    "per_imp = permutation_importance(XGB_clf, Xs_train,ys_train, scoring='precision')\n",
    "importances = per_imp.importances_mean\n",
    "    \n",
    "imp_dict = dict(zip(X.columns, importances))\n",
    "score_df = pd.DataFrame(imp_dict.items(), columns=['feature', 'score'])\n",
    "score_df = score_df.sort_values('score',ascending=False)\n",
    "print(score_df.head(10))\n",
    "\n",
    "# plot the scores\n",
    "fig = plt.figure(figsize=(4,5))\n",
    "score_df = score_df.sort_values('score',ascending=False).head(10).sort_values('score',ascending=True)\n",
    "plt.barh(score_df.feature, score_df.score)\n",
    "plt.xticks(rotation=90)\n",
    "plt.show()\n"
   ]
  },
  {
   "cell_type": "code",
   "execution_count": 155,
   "metadata": {},
   "outputs": [
    {
     "name": "stdout",
     "output_type": "stream",
     "text": [
      "Accuracy is:  0.83\n",
      "F1 score is:  0.8\n",
      "Ave PR score:  0.9\n",
      "              precision    recall  f1-score   support\n",
      "\n",
      "           0       0.79      0.92      0.85       131\n",
      "           1       0.89      0.72      0.80       114\n",
      "\n",
      "    accuracy                           0.83       245\n",
      "   macro avg       0.84      0.82      0.82       245\n",
      "weighted avg       0.84      0.83      0.83       245\n",
      "\n"
     ]
    },
    {
     "data": {
      "image/png": "[encoded data removed]",
      "text/plain": [
       "<Figure size 432x288 with 2 Axes>"
      ]
     },
     "metadata": {
      "needs_background": "light"
     },
     "output_type": "display_data"
    },
    {
     "data": {
      "image/png": "[encoded data removed]",
      "text/plain": [
       "<Figure size 432x288 with 1 Axes>"
      ]
     },
     "metadata": {
      "needs_background": "light"
     },
     "output_type": "display_data"
    },
    {
     "data": {
      "image/png": "[encoded data removed]",
      "text/plain": [
       "<Figure size 432x288 with 1 Axes>"
      ]
     },
     "metadata": {
      "needs_background": "light"
     },
     "output_type": "display_data"
    }
   ],
   "source": [
    "# AdB_clf = AdaBoostClassifier(DecisionTreeClassifier(max_depth=2),\n",
    "#                                      learning_rate=0.2,\n",
    "#                                      n_estimators=80)\n",
    "    \n",
    "    \n",
    "AdB_clf = AdaBoostClassifier(base_estimator= None, learning_rate=1, n_estimators=200)\n",
    "\n",
    "AdB_clf.fit(Xs_train,ys_train)\n",
    "y_pred = AdB_clf.predict(Xs_test)\n",
    "display_scores(AdB_clf, Xs_test, ys_test, y_pred)"
   ]
  },
  {
   "cell_type": "code",
   "execution_count": 124,
   "metadata": {},
   "outputs": [
    {
     "name": "stdout",
     "output_type": "stream",
     "text": [
      "                          feature     score\n",
      "13     hh_comp_desc_Single Female  0.066455\n",
      "0               segment_Champions  0.051483\n",
      "12  hh_comp_desc_2 Adults No Kids  0.045672\n",
      "31             income_desc_50-74K  0.039878\n",
      "5                  age_desc_25-34  0.039853\n",
      "6                  age_desc_35-44  0.038722\n",
      "30             income_desc_35-49K  0.036250\n",
      "8                  age_desc_55-64  0.035785\n",
      "15       homeowner_desc_Homeowner  0.035754\n",
      "34          marital_status_code_A  0.032326\n"
     ]
    },
    {
     "data": {
      "image/png": "[encoded data removed]",
      "text/plain": [
       "<Figure size 288x360 with 1 Axes>"
      ]
     },
     "metadata": {
      "needs_background": "light"
     },
     "output_type": "display_data"
    }
   ],
   "source": [
    "per_imp = permutation_importance(AdB_clf, Xs_train,ys_train, scoring='precision')\n",
    "importances = per_imp.importances_mean\n",
    "    \n",
    "imp_dict = dict(zip(X.columns, importances))\n",
    "score_df = pd.DataFrame(imp_dict.items(), columns=['feature', 'score'])\n",
    "score_df = score_df.sort_values('score',ascending=False)\n",
    "print(score_df.head(10))\n",
    "\n",
    "# plot the scores\n",
    "fig = plt.figure(figsize=(4,5))\n",
    "score_df = score_df.sort_values('score',ascending=False).head(10).sort_values('score',ascending=True)\n",
    "plt.barh(score_df.feature, score_df.score)\n",
    "plt.xticks(rotation=90)\n",
    "plt.show()\n"
   ]
  }
 ],
 "metadata": {
  "kernelspec": {
   "display_name": "Python 3",
   "language": "python",
   "name": "python3"
  },
  "language_info": {
   "codemirror_mode": {
    "name": "ipython",
    "version": 3
   },
   "file_extension": ".py",
   "mimetype": "text/x-python",
   "name": "python",
   "nbconvert_exporter": "python",
   "pygments_lexer": "ipython3",
   "version": "3.8.5"
  }
 },
 "nbformat": 4,
 "nbformat_minor": 4
}
